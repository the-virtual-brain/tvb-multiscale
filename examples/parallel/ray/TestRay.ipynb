{
 "cells": [
  {
   "cell_type": "code",
   "execution_count": null,
   "id": "7d734311",
   "metadata": {},
   "outputs": [],
   "source": [
    "import ray\n",
    "\n",
    "ray.init()"
   ]
  },
  {
   "cell_type": "code",
   "execution_count": null,
   "id": "9319c7e0",
   "metadata": {},
   "outputs": [],
   "source": [
    "import time\n",
    "\n",
    "\n",
    "# A regular Python function.\n",
    "def normal_function():\n",
    "    return 1\n",
    "\n",
    "\n",
    "# By adding the `@ray.remote` decorator, a regular Python function\n",
    "# becomes a Ray remote function.\n",
    "@ray.remote\n",
    "def my_function():\n",
    "    return 1\n",
    "\n",
    "\n",
    "# To invoke this remote function, use the `remote` method.\n",
    "# This will immediately return an object ref (a future) and then create\n",
    "# a task that will be executed on a worker process.\n",
    "obj_ref = my_function.remote()\n",
    "\n",
    "# The result can be retrieved with ``ray.get``.\n",
    "assert ray.get(obj_ref) == 1\n",
    "\n",
    "\n",
    "@ray.remote\n",
    "def slow_function(ii):\n",
    "    time.sleep(1)\n",
    "    print(ii)\n",
    "    return ii\n",
    "\n",
    "\n",
    "# Ray tasks are executed in parallel.\n",
    "# All computation is performed in the background, driven by Ray's internal event loop.\n",
    "# for ii in range(4):\n",
    "#     # This doesn't block.\n",
    "#     slow_function.remote(ii)\n",
    "    \n",
    "object_refs = [slow_function.remote(ii) for ii in range(1, 4)]\n",
    "# Return as soon as one of the tasks finished execution.\n",
    "ready_refs, remaining_refs = ray.wait(object_refs, num_returns=1, timeout=None)"
   ]
  },
  {
   "cell_type": "code",
   "execution_count": null,
   "id": "4001cf7d",
   "metadata": {},
   "outputs": [],
   "source": [
    "ready_refs"
   ]
  },
  {
   "cell_type": "code",
   "execution_count": null,
   "id": "06b2903d",
   "metadata": {},
   "outputs": [],
   "source": [
    "remaining_refs"
   ]
  },
  {
   "cell_type": "code",
   "execution_count": null,
   "id": "66484e5f",
   "metadata": {},
   "outputs": [],
   "source": [
    "ready_refs, remaining_refs = ray.wait(object_refs, timeout=None)"
   ]
  },
  {
   "cell_type": "code",
   "execution_count": null,
   "id": "a309b05d",
   "metadata": {},
   "outputs": [],
   "source": [
    "ray.get(ready_refs)"
   ]
  },
  {
   "cell_type": "code",
   "execution_count": null,
   "id": "7e44092a",
   "metadata": {},
   "outputs": [],
   "source": [
    "ray.get(remaining_refs)"
   ]
  },
  {
   "cell_type": "code",
   "execution_count": 2,
   "id": "5bff05b9",
   "metadata": {},
   "outputs": [],
   "source": [
    "# #@ray.remote\n",
    "# class Counter(object):\n",
    "        \n",
    "#     def __init__(self, adder=None):\n",
    "#         self.value = 0\n",
    "        \n",
    "#     def increment(self):\n",
    "#         self.value += self.adder()\n",
    "#         return self.value\n",
    "\n",
    "#     def get_counter(self):\n",
    "#         return self.value\n",
    "    \n",
    "\n",
    "\n",
    "# # Create an actor from this class.\n",
    "# counter = Counter.remote()\n",
    "\n",
    "\n",
    "# class RayServer(object):\n",
    "\n",
    "#     def __getattribute__(self, attr):\n",
    "#         return super(RayServer, self).__getattribute__(attr)\n",
    "\n",
    "#     def __setattr__(self, attr, val):\n",
    "#         return super(RayServer, self).__setattr__(attr, val)\n",
    "\n",
    "#     def __getstate__(self):\n",
    "#         return {}\n",
    "\n",
    "#     def __setstate__(self, d):\n",
    "#         pass\n",
    "    \n",
    "    \n",
    "class Adder(object):\n",
    "    \n",
    "    value = 1\n",
    "    \n",
    "    def __init__(self):\n",
    "        self.value = 1\n",
    "        \n",
    "    def __call__(self):\n",
    "        return self.value\n",
    "    \n",
    "#     def __getattribute__(self, attr):\n",
    "#         return super(Adder, self).__getattribute__(attr)\n",
    "    \n",
    "#     def __setattr__(self, attr, val):\n",
    "#         return super(Adder, self).__setattr__(attr,val)\n",
    "    \n",
    "    \n",
    "class Counter(object):\n",
    "    \n",
    "    value = 0\n",
    "    \n",
    "    def __init__(self, adder=None):\n",
    "        if adder is None:\n",
    "            self.adder = lambda: 1\n",
    "        else:\n",
    "            self.adder = adder\n",
    "        self.value = 0\n",
    "\n",
    "#     def __getattribute__(self, attr):\n",
    "#         return super(Counter, self).__getattribute__(attr)\n",
    "    \n",
    "#     def __setattr__(self, attr, val):\n",
    "#         return super(Counter, self).__setattr__(attr,val)\n",
    "        \n",
    "    def increment(self):\n",
    "        self.value += self.adder()\n",
    "        return self.value\n",
    "\n",
    "    def get_counter(self):\n",
    "        return self.value\n",
    "    \n"
   ]
  },
  {
   "cell_type": "code",
   "execution_count": null,
   "id": "055177ca",
   "metadata": {},
   "outputs": [],
   "source": [
    "# # Call the actor.\n",
    "# obj_ref = counter.increment.remote()\n",
    "# print(ray.get(obj_ref))"
   ]
  },
  {
   "cell_type": "code",
   "execution_count": null,
   "id": "3d9265f5",
   "metadata": {},
   "outputs": [],
   "source": [
    "# # Create ten Counter actors.\n",
    "# counters = [Counter.remote() for _ in range(10)]\n",
    "\n",
    "# # Increment each Counter once and get the results. These tasks all happen in\n",
    "# # parallel.\n",
    "# results = ray.get([c.increment.remote() for c in counters])\n",
    "# print(results)\n",
    "\n",
    "# # Increment the first Counter five times. These tasks are executed serially\n",
    "# # and share state.\n",
    "# results = ray.get([counters[0].increment.remote() for _ in range(5)])\n",
    "# print(results)"
   ]
  },
  {
   "cell_type": "code",
   "execution_count": 3,
   "id": "043a4142",
   "metadata": {},
   "outputs": [],
   "source": [
    "from tvb_multiscale.core.ray.client import create_ray_client, RayClient\n"
   ]
  },
  {
   "cell_type": "code",
   "execution_count": 4,
   "id": "26a272a3",
   "metadata": {},
   "outputs": [],
   "source": [
    "adder = create_ray_client(Adder, \n",
    "                          ray_client_type=RayClient, \n",
    "                          non_blocking_methods=[])\n"
   ]
  },
  {
   "cell_type": "code",
   "execution_count": 5,
   "id": "c3109049",
   "metadata": {},
   "outputs": [
    {
     "data": {
      "text/plain": [
       "1"
      ]
     },
     "execution_count": 5,
     "metadata": {},
     "output_type": "execute_result"
    }
   ],
   "source": [
    "adder.value"
   ]
  },
  {
   "cell_type": "code",
   "execution_count": 6,
   "id": "a2b2518e",
   "metadata": {},
   "outputs": [
    {
     "data": {
      "text/plain": [
       "{'__call__': [<Parameter \"_ray_trace_ctx=None\">],\n",
       " '__getattribute__': [<Parameter \"attr\">, <Parameter \"_ray_trace_ctx=None\">],\n",
       " '__getstate__': [<Parameter \"_ray_trace_ctx=None\">],\n",
       " '__init__': [<Parameter \"_ray_trace_ctx=None\">],\n",
       " '__ray_ready__': [<Parameter \"_ray_trace_ctx=None\">],\n",
       " '__ray_terminate__': [<Parameter \"_ray_trace_ctx=None\">],\n",
       " '__setattr__': [<Parameter \"attr\">,\n",
       "  <Parameter \"val\">,\n",
       "  <Parameter \"_ray_trace_ctx=None\">],\n",
       " '__setstate__': [<Parameter \"d\">, <Parameter \"_ray_trace_ctx=None\">]}"
      ]
     },
     "execution_count": 6,
     "metadata": {},
     "output_type": "execute_result"
    }
   ],
   "source": [
    "adder.ray_server._ray_method_signatures"
   ]
  },
  {
   "cell_type": "code",
   "execution_count": 7,
   "id": "ad1f483c",
   "metadata": {},
   "outputs": [],
   "source": [
    "counter = create_ray_client(Counter, \n",
    "                            ray_client_type=RayClient, \n",
    "                            non_blocking_methods=[\"increment\", \"get_counter\"], adder=adder)"
   ]
  },
  {
   "cell_type": "code",
   "execution_count": 8,
   "id": "cdb3609f",
   "metadata": {},
   "outputs": [
    {
     "data": {
      "text/plain": [
       "ObjectRef(32d950ec0ccf9d2a2b687f55c0e0e3c062f641bd0100000001000000)"
      ]
     },
     "execution_count": 8,
     "metadata": {},
     "output_type": "execute_result"
    }
   ],
   "source": [
    "counter.increment()"
   ]
  },
  {
   "cell_type": "code",
   "execution_count": 9,
   "id": "18344ac9",
   "metadata": {},
   "outputs": [
    {
     "data": {
      "text/plain": [
       "1"
      ]
     },
     "execution_count": 9,
     "metadata": {},
     "output_type": "execute_result"
    }
   ],
   "source": [
    "counter.value"
   ]
  },
  {
   "cell_type": "code",
   "execution_count": 10,
   "id": "4f4d54a5",
   "metadata": {},
   "outputs": [],
   "source": [
    "counter.adder.value = 2"
   ]
  },
  {
   "cell_type": "code",
   "execution_count": 11,
   "id": "87c8d263",
   "metadata": {},
   "outputs": [
    {
     "data": {
      "text/plain": [
       "2"
      ]
     },
     "execution_count": 11,
     "metadata": {},
     "output_type": "execute_result"
    }
   ],
   "source": [
    "counter.adder()"
   ]
  },
  {
   "cell_type": "code",
   "execution_count": 12,
   "id": "1bdf08ff",
   "metadata": {},
   "outputs": [],
   "source": [
    "from tvb_multiscale.core.tvb.cosimulator.cosimulator import CoSimulator"
   ]
  },
  {
   "cell_type": "code",
   "execution_count": 13,
   "id": "2b2544b0",
   "metadata": {},
   "outputs": [],
   "source": [
    "remote_cosim = create_ray_client(CoSimulator, ray_client_type=RayClient)"
   ]
  },
  {
   "cell_type": "code",
   "execution_count": 14,
   "id": "1fa6486c",
   "metadata": {},
   "outputs": [
    {
     "data": {
      "text/plain": [
       "1"
      ]
     },
     "execution_count": 14,
     "metadata": {},
     "output_type": "execute_result"
    }
   ],
   "source": [
    "remote_cosim.min_idelay_sync_n_step_ratio"
   ]
  },
  {
   "cell_type": "code",
   "execution_count": 15,
   "id": "684a3336",
   "metadata": {},
   "outputs": [],
   "source": [
    "remote_cosim.input_interfaces"
   ]
  },
  {
   "cell_type": "code",
   "execution_count": 16,
   "id": "c81b59db",
   "metadata": {},
   "outputs": [],
   "source": [
    "ray.shutdown()"
   ]
  },
  {
   "cell_type": "code",
   "execution_count": null,
   "id": "5b6d176e",
   "metadata": {},
   "outputs": [],
   "source": []
  }
 ],
 "metadata": {
  "kernelspec": {
   "display_name": "Python 3 (ipykernel)",
   "language": "python",
   "name": "python3"
  },
  "language_info": {
   "codemirror_mode": {
    "name": "ipython",
    "version": 3
   },
   "file_extension": ".py",
   "mimetype": "text/x-python",
   "name": "python",
   "nbconvert_exporter": "python",
   "pygments_lexer": "ipython3",
   "version": "3.10.12"
  }
 },
 "nbformat": 4,
 "nbformat_minor": 5
}
