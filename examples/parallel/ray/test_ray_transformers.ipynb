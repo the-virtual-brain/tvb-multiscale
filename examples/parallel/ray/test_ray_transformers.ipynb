{
 "cells": [
  {
   "cell_type": "code",
   "execution_count": null,
   "id": "e8b4269e",
   "metadata": {},
   "outputs": [],
   "source": [
    "from tvb_multiscale.core.interfaces.transformers.models.elephant import *\n",
    "import time"
   ]
  },
  {
   "cell_type": "code",
   "execution_count": 2,
   "id": "928e8a87",
   "metadata": {},
   "outputs": [],
   "source": [
    "from quantities import Quantity, ms, s, sec, second, Hz, MHz\n",
    "\n",
    "dt = 0.1\n",
    "number_of_neurons = 1000\n",
    "number_of_proxies = 10\n",
    "refractory_period = 1.0\n",
    "duration = 60000\n",
    "times = np.array([0, duration]).astype(\"i\")\n",
    "rates = np.random.normal(loc=100.0, scale=10.0, size=(number_of_proxies, duration))"
   ]
  },
  {
   "cell_type": "code",
   "execution_count": 3,
   "id": "885dc83b",
   "metadata": {},
   "outputs": [],
   "source": [
    "rts = RatesToSpikesElephantPoisson(dt=dt, \n",
    "                                   ray_parallel=False, \n",
    "                                   refractory_period=1.0,\n",
    "                                   number_of_neurons=np.array([number_of_neurons]).astype('i'),\n",
    "                                   as_array=True)\n",
    "rts.configure()"
   ]
  },
  {
   "cell_type": "code",
   "execution_count": 4,
   "id": "eee48e0c",
   "metadata": {},
   "outputs": [
    {
     "name": "stdout",
     "output_type": "stream",
     "text": [
      "2558.28ms\n"
     ]
    }
   ],
   "source": [
    "t = time.time()\n",
    "\n",
    "_, spikes = rts(data=rates, time=times)\n",
    "    \n",
    "print(\"%gms\" % ((time.time()-t)*1e3))"
   ]
  },
  {
   "cell_type": "code",
   "execution_count": 5,
   "id": "cd14e802",
   "metadata": {},
   "outputs": [
    {
     "data": {
      "text/plain": [
       "1000"
      ]
     },
     "execution_count": 5,
     "metadata": {},
     "output_type": "execute_result"
    }
   ],
   "source": [
    "len(spikes[0])"
   ]
  },
  {
   "cell_type": "code",
   "execution_count": 6,
   "id": "e9163693",
   "metadata": {},
   "outputs": [
    {
     "data": {
      "text/plain": [
       "589"
      ]
     },
     "execution_count": 6,
     "metadata": {},
     "output_type": "execute_result"
    }
   ],
   "source": [
    "len(spikes[0][0])"
   ]
  },
  {
   "cell_type": "code",
   "execution_count": 7,
   "id": "e26d2aa4",
   "metadata": {},
   "outputs": [],
   "source": [
    "rayrts = RatesToSpikesElephantPoisson(dt=dt, \n",
    "                                      ray_parallel=True, \n",
    "                                      refractory_period=1.0,\n",
    "                                      number_of_neurons=np.array([number_of_neurons]).astype('i'),\n",
    "                                      as_array=True)\n",
    "rayrts.configure()"
   ]
  },
  {
   "cell_type": "code",
   "execution_count": 9,
   "id": "023a4bea",
   "metadata": {},
   "outputs": [
    {
     "name": "stdout",
     "output_type": "stream",
     "text": [
      "434.028ms\n"
     ]
    }
   ],
   "source": [
    "t = time.time()\n",
    "\n",
    "_, rayspikes = rayrts(data=rates, time=times)\n",
    "    \n",
    "print(\"%gms\" % ((time.time()-t)*1e3))"
   ]
  },
  {
   "cell_type": "code",
   "execution_count": 10,
   "id": "c6559504",
   "metadata": {},
   "outputs": [
    {
     "data": {
      "text/plain": [
       "10"
      ]
     },
     "execution_count": 10,
     "metadata": {},
     "output_type": "execute_result"
    }
   ],
   "source": [
    "len(rayspikes)"
   ]
  },
  {
   "cell_type": "code",
   "execution_count": 20,
   "id": "e1246655",
   "metadata": {},
   "outputs": [],
   "source": [
    "input_spikes = []\n",
    "for iP in range(10):\n",
    "    sps = []\n",
    "    for sp in spikes[iP]:\n",
    "        sps += sp.tolist()\n",
    "    input_spikes.append(np.array(sps))\n",
    "\n",
    "input_spikes = np.array(input_spikes, dtype=object)"
   ]
  },
  {
   "cell_type": "code",
   "execution_count": 26,
   "id": "3b9a381c",
   "metadata": {},
   "outputs": [],
   "source": [
    "strt = ElephantSpikesHistogramRate(dt=dt, \n",
    "                                  ray_parallel=False)\n",
    "strt.configure()"
   ]
  },
  {
   "cell_type": "code",
   "execution_count": 27,
   "id": "d5d83861",
   "metadata": {},
   "outputs": [
    {
     "name": "stdout",
     "output_type": "stream",
     "text": [
      "680.318ms\n"
     ]
    }
   ],
   "source": [
    "t = time.time()\n",
    "\n",
    "_, newrates = strt(data=input_spikes, time=times)\n",
    "    \n",
    "print(\"%gms\" % ((time.time()-t)*1e3))"
   ]
  },
  {
   "cell_type": "code",
   "execution_count": 28,
   "id": "b862c905",
   "metadata": {},
   "outputs": [],
   "source": [
    "raystrt = ElephantSpikesHistogramRate(dt=dt, \n",
    "                                      ray_parallel=True)\n",
    "raystrt.configure()"
   ]
  },
  {
   "cell_type": "code",
   "execution_count": 29,
   "id": "2954a2d0",
   "metadata": {},
   "outputs": [
    {
     "name": "stdout",
     "output_type": "stream",
     "text": [
      "160.457ms\n"
     ]
    }
   ],
   "source": [
    "t = time.time()\n",
    "\n",
    "_, raynewrates = raystrt(data=input_spikes, time=times)\n",
    "    \n",
    "print(\"%gms\" % ((time.time()-t)*1e3))"
   ]
  },
  {
   "cell_type": "code",
   "execution_count": null,
   "id": "51cb784f",
   "metadata": {},
   "outputs": [],
   "source": []
  }
 ],
 "metadata": {
  "kernelspec": {
   "display_name": "Python 3 (ipykernel)",
   "language": "python",
   "name": "python3"
  },
  "language_info": {
   "codemirror_mode": {
    "name": "ipython",
    "version": 3
   },
   "file_extension": ".py",
   "mimetype": "text/x-python",
   "name": "python",
   "nbconvert_exporter": "python",
   "pygments_lexer": "ipython3",
   "version": "3.10.12"
  }
 },
 "nbformat": 4,
 "nbformat_minor": 5
}
