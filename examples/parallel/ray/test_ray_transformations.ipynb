{
 "cells": [
  {
   "cell_type": "code",
   "execution_count": 14,
   "id": "90c3fdf8",
   "metadata": {},
   "outputs": [],
   "source": [
    "from tvb_multiscale.core.interfaces.transformers.models.elephant import *\n",
    "import time"
   ]
  },
  {
   "cell_type": "code",
   "execution_count": 15,
   "id": "be2b658e",
   "metadata": {},
   "outputs": [],
   "source": [
    "from quantities import Quantity, ms, s, sec, second, Hz, MHz\n",
    "\n",
    "number_of_spiketrains = 1000\n",
    "t_start = 0.0*ms\n",
    "duration = 60000\n",
    "t_stop = duration * 1.0*ms\n",
    "sampling_period = 0.1*ms\n",
    "rate_unit = Hz\n",
    "time_unit = ms\n",
    "as_array = True\n",
    "refractory_period = 1.0*ms\n",
    "rates = np.random.normal(loc=100.0, scale=10.0, size=(duration,1))"
   ]
  },
  {
   "cell_type": "code",
   "execution_count": 16,
   "id": "a901d9fb",
   "metadata": {},
   "outputs": [
    {
     "name": "stdout",
     "output_type": "stream",
     "text": [
      "2687.28ms\n"
     ]
    }
   ],
   "source": [
    "t = time.time()\n",
    "\n",
    "spikes = []\n",
    "for _ in range(10):\n",
    "\n",
    "    spikes.append(compute_for_n_spiketrains(rates, number_of_spiketrains, refractory_period,\n",
    "                              sampling_period, rate_unit, t_start, t_stop, as_array=True, analog_signal_class=None,\n",
    "                              stationary_poisson_process=None, non_stationary_poisson_process=None))\n",
    "    \n",
    "print(\"%gms\" % ((time.time()-t)*1e3))"
   ]
  },
  {
   "cell_type": "code",
   "execution_count": 17,
   "id": "adc58bc1",
   "metadata": {},
   "outputs": [
    {
     "name": "stdout",
     "output_type": "stream",
     "text": [
      "692.366ms\n"
     ]
    }
   ],
   "source": [
    "t = time.time()\n",
    "\n",
    "refs = []\n",
    "for _ in range(10):\n",
    "\n",
    "    refs.append(ray_compute_for_n_spiketrains.remote(rates, number_of_spiketrains, refractory_period,\n",
    "                                  sampling_period, rate_unit, t_start, t_stop, as_array=True, analog_signal_class=None))\n",
    "    \n",
    "outputs = ray.get(refs)\n",
    "\n",
    "print(\"%gms\" % ((time.time()-t)*1e3))"
   ]
  },
  {
   "cell_type": "code",
   "execution_count": 18,
   "id": "9ac36b5d",
   "metadata": {},
   "outputs": [
    {
     "name": "stdout",
     "output_type": "stream",
     "text": [
      "2724.81ms\n"
     ]
    }
   ],
   "source": [
    "t = time.time()\n",
    "\n",
    "refs = []\n",
    "for _ in range(10):\n",
    "\n",
    "    ray.get(ray_compute_for_n_spiketrains.remote(rates, number_of_spiketrains, refractory_period,\n",
    "                                  sampling_period, rate_unit, t_start, t_stop, as_array=True, analog_signal_class=None))\n",
    "    \n",
    "\n",
    "print(\"%gms\" % ((time.time()-t)*1e3))"
   ]
  },
  {
   "cell_type": "code",
   "execution_count": 19,
   "id": "38e79de2",
   "metadata": {},
   "outputs": [],
   "source": [
    "scale_factor = 1.0\n",
    "translation_factor = 0.0\n",
    "bin_size = sampling_period"
   ]
  },
  {
   "cell_type": "code",
   "execution_count": 20,
   "id": "3392549e",
   "metadata": {},
   "outputs": [],
   "source": [
    "for iP in range(10):\n",
    "    sps = []\n",
    "    for sp in spikes[iP]:\n",
    "        sps += sp.tolist()\n",
    "    spikes[iP] = np.array(sps)"
   ]
  },
  {
   "cell_type": "code",
   "execution_count": 21,
   "id": "4b718ce6",
   "metadata": {},
   "outputs": [
    {
     "name": "stdout",
     "output_type": "stream",
     "text": [
      "677.205ms\n"
     ]
    }
   ],
   "source": [
    "t = time.time()\n",
    "\n",
    "rates2 = []\n",
    "for iP in range(10):\n",
    "\n",
    "    rates2.append(compute_rates_ElephantSpikesHistogramRate(np.array(spikes[iP]),\n",
    "                                                            bin_size, rate_unit, time_unit, t_start, t_stop, \n",
    "                                                            spike_train_class=None))\n",
    "    \n",
    "print(\"%gms\" % ((time.time()-t)*1e3))"
   ]
  },
  {
   "cell_type": "code",
   "execution_count": 22,
   "id": "8fba1925",
   "metadata": {},
   "outputs": [
    {
     "name": "stdout",
     "output_type": "stream",
     "text": [
      "203.969ms\n"
     ]
    }
   ],
   "source": [
    "t = time.time()\n",
    "\n",
    "refs = []\n",
    "for iP in range(10):\n",
    "\n",
    "    refs.append(ray_compute_rates_ElephantSpikesHistogramRate.remote(np.array(spikes[iP]), scale_factor, translation_factor,\n",
    "                                                                     bin_size, rate_unit, time_unit, t_start, t_stop, spike_train_class=None))\n",
    "    \n",
    "outputs = ray.get(refs)\n",
    "print(\"%gms\" % ((time.time()-t)*1e3))"
   ]
  },
  {
   "cell_type": "code",
   "execution_count": 23,
   "id": "eafc8e8f",
   "metadata": {},
   "outputs": [
    {
     "name": "stdout",
     "output_type": "stream",
     "text": [
      "813.548ms\n"
     ]
    }
   ],
   "source": [
    "t = time.time()\n",
    "\n",
    "outputs = []\n",
    "for iP in range(10):\n",
    "\n",
    "    outputs.append(ray.get(ray_compute_rates_ElephantSpikesHistogramRate.remote(np.array(spikes[iP]), scale_factor, translation_factor,\n",
    "                                                                     bin_size, rate_unit, time_unit, t_start, t_stop, spike_train_class=None)))\n",
    "    \n",
    "print(\"%gms\" % ((time.time()-t)*1e3))"
   ]
  },
  {
   "cell_type": "code",
   "execution_count": null,
   "id": "1f7da5a2",
   "metadata": {},
   "outputs": [],
   "source": []
  }
 ],
 "metadata": {
  "kernelspec": {
   "display_name": "Python 3 (ipykernel)",
   "language": "python",
   "name": "python3"
  },
  "language_info": {
   "codemirror_mode": {
    "name": "ipython",
    "version": 3
   },
   "file_extension": ".py",
   "mimetype": "text/x-python",
   "name": "python",
   "nbconvert_exporter": "python",
   "pygments_lexer": "ipython3",
   "version": "3.10.12"
  }
 },
 "nbformat": 4,
 "nbformat_minor": 5
}
