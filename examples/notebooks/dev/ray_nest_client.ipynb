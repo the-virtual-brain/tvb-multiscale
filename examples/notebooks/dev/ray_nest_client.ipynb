{
 "cells": [
  {
   "cell_type": "code",
   "execution_count": 1,
   "id": "6fd2a5f3",
   "metadata": {},
   "outputs": [],
   "source": [
    "import ray"
   ]
  },
  {
   "cell_type": "code",
   "execution_count": 4,
   "id": "00d4c9b6",
   "metadata": {},
   "outputs": [
    {
     "name": "stderr",
     "output_type": "stream",
     "text": [
      "2021-06-23 16:13:08,013\tINFO worker.py:727 -- Connecting to existing Ray cluster at address: 172.17.0.2:6379\n",
      "2021-06-23 16:13:08,428\tINFO logservicer.py:102 -- New logs connection established. Total clients: 1\n"
     ]
    },
    {
     "data": {
      "text/plain": [
       "{'node_ip_address': '172.17.0.2',\n",
       " 'raylet_ip_address': '172.17.0.2',\n",
       " 'redis_address': '172.17.0.2:6379',\n",
       " 'object_store_address': '/tmp/ray/session_2021-06-23_16-09-15_995632_11/sockets/plasma_store',\n",
       " 'raylet_socket_name': '/tmp/ray/session_2021-06-23_16-09-15_995632_11/sockets/raylet',\n",
       " 'webui_url': '127.0.0.1:8265',\n",
       " 'session_dir': '/tmp/ray/session_2021-06-23_16-09-15_995632_11',\n",
       " 'metrics_export_port': 59655,\n",
       " 'node_id': 'ed42d1a10fe6956aa36b43cc8556ba8b93c46d8dc1fba720529e3225'}"
      ]
     },
     "execution_count": 4,
     "metadata": {},
     "output_type": "execute_result"
    }
   ],
   "source": [
    "ray.init(address='172.17.0.2:6379')"
   ]
  },
  {
   "cell_type": "code",
   "execution_count": null,
   "id": "463a9bc8",
   "metadata": {},
   "outputs": [],
   "source": [
    "# Retrieve the actor later somewhere\n",
    "nest_network = ray.get_actor(\"nest_network\")"
   ]
  },
  {
   "cell_type": "code",
   "execution_count": null,
   "id": "27094104",
   "metadata": {},
   "outputs": [],
   "source": [
    "ray.nodes()"
   ]
  },
  {
   "cell_type": "code",
   "execution_count": null,
   "id": "4d310344",
   "metadata": {},
   "outputs": [],
   "source": [
    "counter = ray.get_actor(\"counter\")"
   ]
  },
  {
   "cell_type": "code",
   "execution_count": 3,
   "id": "4bcde739",
   "metadata": {},
   "outputs": [
    {
     "ename": "ConnectionError",
     "evalue": "ray client connection timeout",
     "output_type": "error",
     "traceback": [
      "\u001b[0;31m\u001b[0m",
      "\u001b[0;31mConnectionError\u001b[0mTraceback (most recent call last)",
      "\u001b[0;32m<ipython-input-3-99695200d99b>\u001b[0m in \u001b[0;36m<module>\u001b[0;34m\u001b[0m\n\u001b[0;32m----> 1\u001b[0;31m \u001b[0mray\u001b[0m\u001b[0;34m.\u001b[0m\u001b[0mclient\u001b[0m\u001b[0;34m(\u001b[0m\u001b[0;34m\"172.17.0.2:10001\"\u001b[0m\u001b[0;34m)\u001b[0m\u001b[0;34m.\u001b[0m\u001b[0mconnect\u001b[0m\u001b[0;34m(\u001b[0m\u001b[0;34m)\u001b[0m\u001b[0;34m\u001b[0m\u001b[0;34m\u001b[0m\u001b[0m\n\u001b[0m",
      "\u001b[0;32m~/env/neurosci/lib/python3.7/site-packages/ray/client_builder.py\u001b[0m in \u001b[0;36mconnect\u001b[0;34m(self)\u001b[0m\n\u001b[1;32m     79\u001b[0m         \"\"\"\n\u001b[1;32m     80\u001b[0m         client_info_dict = ray.util.client_connect.connect(\n\u001b[0;32m---> 81\u001b[0;31m             self.address, job_config=self._job_config)\n\u001b[0m\u001b[1;32m     82\u001b[0m         dashboard_url = ray.get(\n\u001b[1;32m     83\u001b[0m             ray.remote(ray.worker.get_dashboard_url).remote())\n",
      "\u001b[0;32m~/env/neurosci/lib/python3.7/site-packages/ray/util/client_connect.py\u001b[0m in \u001b[0;36mconnect\u001b[0;34m(conn_str, secure, metadata, connection_retries, job_config, namespace, ignore_version)\u001b[0m\n\u001b[1;32m     34\u001b[0m         \u001b[0mconnection_retries\u001b[0m\u001b[0;34m=\u001b[0m\u001b[0mconnection_retries\u001b[0m\u001b[0;34m,\u001b[0m\u001b[0;34m\u001b[0m\u001b[0;34m\u001b[0m\u001b[0m\n\u001b[1;32m     35\u001b[0m         \u001b[0mnamespace\u001b[0m\u001b[0;34m=\u001b[0m\u001b[0mnamespace\u001b[0m\u001b[0;34m,\u001b[0m\u001b[0;34m\u001b[0m\u001b[0;34m\u001b[0m\u001b[0m\n\u001b[0;32m---> 36\u001b[0;31m         ignore_version=ignore_version)\n\u001b[0m\u001b[1;32m     37\u001b[0m \u001b[0;34m\u001b[0m\u001b[0m\n\u001b[1;32m     38\u001b[0m \u001b[0;34m\u001b[0m\u001b[0m\n",
      "\u001b[0;32m~/env/neurosci/lib/python3.7/site-packages/ray/util/client/__init__.py\u001b[0m in \u001b[0;36mconnect\u001b[0;34m(self, conn_str, job_config, secure, metadata, connection_retries, namespace, ignore_version)\u001b[0m\n\u001b[1;32m     73\u001b[0m                 \u001b[0msecure\u001b[0m\u001b[0;34m=\u001b[0m\u001b[0msecure\u001b[0m\u001b[0;34m,\u001b[0m\u001b[0;34m\u001b[0m\u001b[0;34m\u001b[0m\u001b[0m\n\u001b[1;32m     74\u001b[0m                 \u001b[0mmetadata\u001b[0m\u001b[0;34m=\u001b[0m\u001b[0mmetadata\u001b[0m\u001b[0;34m,\u001b[0m\u001b[0;34m\u001b[0m\u001b[0;34m\u001b[0m\u001b[0m\n\u001b[0;32m---> 75\u001b[0;31m                 connection_retries=connection_retries)\n\u001b[0m\u001b[1;32m     76\u001b[0m             \u001b[0mself\u001b[0m\u001b[0;34m.\u001b[0m\u001b[0mapi\u001b[0m\u001b[0;34m.\u001b[0m\u001b[0mworker\u001b[0m \u001b[0;34m=\u001b[0m \u001b[0mself\u001b[0m\u001b[0;34m.\u001b[0m\u001b[0mclient_worker\u001b[0m\u001b[0;34m\u001b[0m\u001b[0;34m\u001b[0m\u001b[0m\n\u001b[1;32m     77\u001b[0m             \u001b[0mself\u001b[0m\u001b[0;34m.\u001b[0m\u001b[0mclient_worker\u001b[0m\u001b[0;34m.\u001b[0m\u001b[0m_server_init\u001b[0m\u001b[0;34m(\u001b[0m\u001b[0mjob_config\u001b[0m\u001b[0;34m)\u001b[0m\u001b[0;34m\u001b[0m\u001b[0;34m\u001b[0m\u001b[0m\n",
      "\u001b[0;32m~/env/neurosci/lib/python3.7/site-packages/ray/util/client/worker.py\u001b[0m in \u001b[0;36m__init__\u001b[0;34m(self, conn_str, secure, metadata, connection_retries)\u001b[0m\n\u001b[1;32m    136\u001b[0m         \u001b[0;31m# should error back to the user.\u001b[0m\u001b[0;34m\u001b[0m\u001b[0;34m\u001b[0m\u001b[0;34m\u001b[0m\u001b[0m\n\u001b[1;32m    137\u001b[0m         \u001b[0;32mif\u001b[0m \u001b[0;32mnot\u001b[0m \u001b[0mservice_ready\u001b[0m\u001b[0;34m:\u001b[0m\u001b[0;34m\u001b[0m\u001b[0;34m\u001b[0m\u001b[0m\n\u001b[0;32m--> 138\u001b[0;31m             \u001b[0;32mraise\u001b[0m \u001b[0mConnectionError\u001b[0m\u001b[0;34m(\u001b[0m\u001b[0;34m\"ray client connection timeout\"\u001b[0m\u001b[0;34m)\u001b[0m\u001b[0;34m\u001b[0m\u001b[0;34m\u001b[0m\u001b[0m\n\u001b[0m\u001b[1;32m    139\u001b[0m \u001b[0;34m\u001b[0m\u001b[0m\n\u001b[1;32m    140\u001b[0m         \u001b[0;31m# Initialize the streams to finish protocol negotiation.\u001b[0m\u001b[0;34m\u001b[0m\u001b[0;34m\u001b[0m\u001b[0;34m\u001b[0m\u001b[0m\n",
      "\u001b[0;31mConnectionError\u001b[0m: ray client connection timeout"
     ]
    }
   ],
   "source": [
    "ray.client(\"172.17.0.2:10001\").connect()"
   ]
  },
  {
   "cell_type": "code",
   "execution_count": null,
   "id": "781a26b9",
   "metadata": {},
   "outputs": [],
   "source": [
    "ray.init(address='172.17.0.2:6379', _redis_password='5241590000000000')"
   ]
  },
  {
   "cell_type": "code",
   "execution_count": 6,
   "id": "ca070c35",
   "metadata": {},
   "outputs": [],
   "source": [
    "from ray import serve"
   ]
  },
  {
   "cell_type": "code",
   "execution_count": 15,
   "id": "e237d776",
   "metadata": {},
   "outputs": [
    {
     "data": {
      "text/plain": [
       "{}"
      ]
     },
     "execution_count": 15,
     "metadata": {},
     "output_type": "execute_result"
    }
   ],
   "source": [
    "serve.list_deployments()"
   ]
  },
  {
   "cell_type": "code",
   "execution_count": 2,
   "id": "695e82c7",
   "metadata": {},
   "outputs": [],
   "source": [
    "import requests"
   ]
  },
  {
   "cell_type": "code",
   "execution_count": 3,
   "id": "24f4a2a2",
   "metadata": {},
   "outputs": [
    {
     "data": {
      "text/plain": [
       "'Internal Server Error'"
      ]
     },
     "execution_count": 3,
     "metadata": {},
     "output_type": "execute_result"
    }
   ],
   "source": [
    "requests.get(\"http://127.0.0.1:8000/NESTRayServer/get_verbosity\").text"
   ]
  },
  {
   "cell_type": "code",
   "execution_count": 4,
   "id": "5721e8b9",
   "metadata": {},
   "outputs": [
    {
     "data": {
      "text/plain": [
       "{'count': 5}"
      ]
     },
     "execution_count": 4,
     "metadata": {},
     "output_type": "execute_result"
    }
   ],
   "source": [
    "requests.get(\"http://127.0.0.1:8000/Counter\").json()"
   ]
  },
  {
   "cell_type": "code",
   "execution_count": 7,
   "id": "24eaf416",
   "metadata": {},
   "outputs": [
    {
     "name": "stderr",
     "output_type": "stream",
     "text": [
      "2021-06-23 16:33:01,819\tINFO services.py:1274 -- View the Ray dashboard at \u001b[1m\u001b[32mhttp://127.0.0.1:8266\u001b[39m\u001b[22m\n",
      "2021-06-23 16:33:01,829\tWARNING services.py:1740 -- WARNING: The object store is using /tmp instead of /dev/shm because /dev/shm has only 67108864 bytes available. This will harm performance! You may be able to free up space by deleting files in /dev/shm. If you are inside a Docker container, you can increase /dev/shm size by passing '--shm-size=4.86gb' to 'docker run' (or add it to the run_options list in a Ray cluster config). Make sure to set this to more than 30% of available RAM.\n"
     ]
    },
    {
     "ename": "RayServeException",
     "evalue": "Called `serve.connect()` but there is no instance running on this Ray cluster. Please call `serve.start(detached=True) to start one.",
     "output_type": "error",
     "traceback": [
      "\u001b[0;31m\u001b[0m",
      "\u001b[0;31mValueError\u001b[0mTraceback (most recent call last)",
      "\u001b[0;32m~/env/neurosci/lib/python3.7/site-packages/ray/serve/api.py\u001b[0m in \u001b[0;36mconnect\u001b[0;34m()\u001b[0m\n\u001b[1;32m    740\u001b[0m     \u001b[0;32mtry\u001b[0m\u001b[0;34m:\u001b[0m\u001b[0;34m\u001b[0m\u001b[0;34m\u001b[0m\u001b[0m\n\u001b[0;32m--> 741\u001b[0;31m         \u001b[0mcontroller\u001b[0m \u001b[0;34m=\u001b[0m \u001b[0mray\u001b[0m\u001b[0;34m.\u001b[0m\u001b[0mget_actor\u001b[0m\u001b[0;34m(\u001b[0m\u001b[0mcontroller_name\u001b[0m\u001b[0;34m)\u001b[0m\u001b[0;34m\u001b[0m\u001b[0;34m\u001b[0m\u001b[0m\n\u001b[0m\u001b[1;32m    742\u001b[0m     \u001b[0;32mexcept\u001b[0m \u001b[0mValueError\u001b[0m\u001b[0;34m:\u001b[0m\u001b[0;34m\u001b[0m\u001b[0;34m\u001b[0m\u001b[0m\n",
      "\u001b[0;32m~/env/neurosci/lib/python3.7/site-packages/ray/_private/client_mode_hook.py\u001b[0m in \u001b[0;36mwrapper\u001b[0;34m(*args, **kwargs)\u001b[0m\n\u001b[1;32m     61\u001b[0m             \u001b[0;32mreturn\u001b[0m \u001b[0mgetattr\u001b[0m\u001b[0;34m(\u001b[0m\u001b[0mray\u001b[0m\u001b[0;34m,\u001b[0m \u001b[0mfunc\u001b[0m\u001b[0;34m.\u001b[0m\u001b[0m__name__\u001b[0m\u001b[0;34m)\u001b[0m\u001b[0;34m(\u001b[0m\u001b[0;34m*\u001b[0m\u001b[0margs\u001b[0m\u001b[0;34m,\u001b[0m \u001b[0;34m**\u001b[0m\u001b[0mkwargs\u001b[0m\u001b[0;34m)\u001b[0m\u001b[0;34m\u001b[0m\u001b[0;34m\u001b[0m\u001b[0m\n\u001b[0;32m---> 62\u001b[0;31m         \u001b[0;32mreturn\u001b[0m \u001b[0mfunc\u001b[0m\u001b[0;34m(\u001b[0m\u001b[0;34m*\u001b[0m\u001b[0margs\u001b[0m\u001b[0;34m,\u001b[0m \u001b[0;34m**\u001b[0m\u001b[0mkwargs\u001b[0m\u001b[0;34m)\u001b[0m\u001b[0;34m\u001b[0m\u001b[0;34m\u001b[0m\u001b[0m\n\u001b[0m\u001b[1;32m     63\u001b[0m \u001b[0;34m\u001b[0m\u001b[0m\n",
      "\u001b[0;32m~/env/neurosci/lib/python3.7/site-packages/ray/worker.py\u001b[0m in \u001b[0;36mget_actor\u001b[0;34m(name)\u001b[0m\n\u001b[1;32m   1658\u001b[0m     \u001b[0mworker\u001b[0m\u001b[0;34m.\u001b[0m\u001b[0mcheck_connected\u001b[0m\u001b[0;34m(\u001b[0m\u001b[0;34m)\u001b[0m\u001b[0;34m\u001b[0m\u001b[0;34m\u001b[0m\u001b[0m\n\u001b[0;32m-> 1659\u001b[0;31m     \u001b[0mhandle\u001b[0m \u001b[0;34m=\u001b[0m \u001b[0mworker\u001b[0m\u001b[0;34m.\u001b[0m\u001b[0mcore_worker\u001b[0m\u001b[0;34m.\u001b[0m\u001b[0mget_named_actor_handle\u001b[0m\u001b[0;34m(\u001b[0m\u001b[0mname\u001b[0m\u001b[0;34m)\u001b[0m\u001b[0;34m\u001b[0m\u001b[0;34m\u001b[0m\u001b[0m\n\u001b[0m\u001b[1;32m   1660\u001b[0m     \u001b[0;32mreturn\u001b[0m \u001b[0mhandle\u001b[0m\u001b[0;34m\u001b[0m\u001b[0;34m\u001b[0m\u001b[0m\n",
      "\u001b[0;32mpython/ray/_raylet.pyx\u001b[0m in \u001b[0;36mray._raylet.CoreWorker.get_named_actor_handle\u001b[0;34m()\u001b[0m\n",
      "\u001b[0;32mpython/ray/_raylet.pyx\u001b[0m in \u001b[0;36mray._raylet.check_status\u001b[0;34m()\u001b[0m\n",
      "\u001b[0;31mValueError\u001b[0m: Failed to look up actor with name 'SERVE_CONTROLLER_ACTOR'. You are either trying to look up a named actor you didn't create, the named actor died, or the actor hasn't been created because named actor creation is asynchronous.",
      "\nDuring handling of the above exception, another exception occurred:\n",
      "\u001b[0;31mRayServeException\u001b[0mTraceback (most recent call last)",
      "\u001b[0;32m<ipython-input-7-de68376b82ce>\u001b[0m in \u001b[0;36m<module>\u001b[0;34m\u001b[0m\n\u001b[0;32m----> 1\u001b[0;31m \u001b[0mcounter\u001b[0m \u001b[0;34m=\u001b[0m \u001b[0mserve\u001b[0m\u001b[0;34m.\u001b[0m\u001b[0mget_deployment\u001b[0m\u001b[0;34m(\u001b[0m\u001b[0;34m\"Counter\"\u001b[0m\u001b[0;34m)\u001b[0m\u001b[0;34m.\u001b[0m\u001b[0mget_handle\u001b[0m\u001b[0;34m(\u001b[0m\u001b[0;34m)\u001b[0m\u001b[0;34m\u001b[0m\u001b[0;34m\u001b[0m\u001b[0m\n\u001b[0m",
      "\u001b[0;32m~/env/neurosci/lib/python3.7/site-packages/ray/serve/api.py\u001b[0m in \u001b[0;36mget_deployment\u001b[0;34m(name)\u001b[0m\n\u001b[1;32m   1460\u001b[0m     \"\"\"\n\u001b[1;32m   1461\u001b[0m     \u001b[0;32mtry\u001b[0m\u001b[0;34m:\u001b[0m\u001b[0;34m\u001b[0m\u001b[0;34m\u001b[0m\u001b[0m\n\u001b[0;32m-> 1462\u001b[0;31m         backend_info, route_prefix = _get_global_client().get_deployment_info(\n\u001b[0m\u001b[1;32m   1463\u001b[0m             name, _internal=True)\n\u001b[1;32m   1464\u001b[0m     \u001b[0;32mexcept\u001b[0m \u001b[0mKeyError\u001b[0m\u001b[0;34m:\u001b[0m\u001b[0;34m\u001b[0m\u001b[0;34m\u001b[0m\u001b[0m\n",
      "\u001b[0;32m~/env/neurosci/lib/python3.7/site-packages/ray/serve/api.py\u001b[0m in \u001b[0;36m_get_global_client\u001b[0;34m()\u001b[0m\n\u001b[1;32m     48\u001b[0m         \u001b[0;32mreturn\u001b[0m \u001b[0m_global_client\u001b[0m\u001b[0;34m\u001b[0m\u001b[0;34m\u001b[0m\u001b[0m\n\u001b[1;32m     49\u001b[0m \u001b[0;34m\u001b[0m\u001b[0m\n\u001b[0;32m---> 50\u001b[0;31m     \u001b[0;32mreturn\u001b[0m \u001b[0mconnect\u001b[0m\u001b[0;34m(\u001b[0m\u001b[0;34m)\u001b[0m\u001b[0;34m\u001b[0m\u001b[0;34m\u001b[0m\u001b[0m\n\u001b[0m\u001b[1;32m     51\u001b[0m \u001b[0;34m\u001b[0m\u001b[0m\n\u001b[1;32m     52\u001b[0m \u001b[0;34m\u001b[0m\u001b[0m\n",
      "\u001b[0;32m~/env/neurosci/lib/python3.7/site-packages/ray/serve/api.py\u001b[0m in \u001b[0;36mconnect\u001b[0;34m()\u001b[0m\n\u001b[1;32m    741\u001b[0m         \u001b[0mcontroller\u001b[0m \u001b[0;34m=\u001b[0m \u001b[0mray\u001b[0m\u001b[0;34m.\u001b[0m\u001b[0mget_actor\u001b[0m\u001b[0;34m(\u001b[0m\u001b[0mcontroller_name\u001b[0m\u001b[0;34m)\u001b[0m\u001b[0;34m\u001b[0m\u001b[0;34m\u001b[0m\u001b[0m\n\u001b[1;32m    742\u001b[0m     \u001b[0;32mexcept\u001b[0m \u001b[0mValueError\u001b[0m\u001b[0;34m:\u001b[0m\u001b[0;34m\u001b[0m\u001b[0;34m\u001b[0m\u001b[0m\n\u001b[0;32m--> 743\u001b[0;31m         raise RayServeException(\"Called `serve.connect()` but there is no \"\n\u001b[0m\u001b[1;32m    744\u001b[0m                                 \u001b[0;34m\"instance running on this Ray cluster. Please \"\u001b[0m\u001b[0;34m\u001b[0m\u001b[0;34m\u001b[0m\u001b[0m\n\u001b[1;32m    745\u001b[0m                                 \u001b[0;34m\"call `serve.start(detached=True) to start \"\u001b[0m\u001b[0;34m\u001b[0m\u001b[0;34m\u001b[0m\u001b[0m\n",
      "\u001b[0;31mRayServeException\u001b[0m: Called `serve.connect()` but there is no instance running on this Ray cluster. Please call `serve.start(detached=True) to start one."
     ]
    }
   ],
   "source": [
    "counter = serve.get_deployment(\"Counter\").get_handle()"
   ]
  },
  {
   "cell_type": "code",
   "execution_count": 17,
   "id": "0864478a",
   "metadata": {},
   "outputs": [],
   "source": [
    "serve.shutdown()"
   ]
  },
  {
   "cell_type": "code",
   "execution_count": 18,
   "id": "ad7f789e",
   "metadata": {},
   "outputs": [
    {
     "ename": "RayServeException",
     "evalue": "Called `serve.connect()` but there is no instance running on this Ray cluster. Please call `serve.start(detached=True) to start one.",
     "output_type": "error",
     "traceback": [
      "\u001b[0;31m\u001b[0m",
      "\u001b[0;31mValueError\u001b[0mTraceback (most recent call last)",
      "\u001b[0;32m~/env/neurosci/lib/python3.7/site-packages/ray/serve/api.py\u001b[0m in \u001b[0;36mconnect\u001b[0;34m()\u001b[0m\n\u001b[1;32m    740\u001b[0m     \u001b[0;32mtry\u001b[0m\u001b[0;34m:\u001b[0m\u001b[0;34m\u001b[0m\u001b[0;34m\u001b[0m\u001b[0m\n\u001b[0;32m--> 741\u001b[0;31m         \u001b[0mcontroller\u001b[0m \u001b[0;34m=\u001b[0m \u001b[0mray\u001b[0m\u001b[0;34m.\u001b[0m\u001b[0mget_actor\u001b[0m\u001b[0;34m(\u001b[0m\u001b[0mcontroller_name\u001b[0m\u001b[0;34m)\u001b[0m\u001b[0;34m\u001b[0m\u001b[0;34m\u001b[0m\u001b[0m\n\u001b[0m\u001b[1;32m    742\u001b[0m     \u001b[0;32mexcept\u001b[0m \u001b[0mValueError\u001b[0m\u001b[0;34m:\u001b[0m\u001b[0;34m\u001b[0m\u001b[0;34m\u001b[0m\u001b[0m\n",
      "\u001b[0;32m~/env/neurosci/lib/python3.7/site-packages/ray/_private/client_mode_hook.py\u001b[0m in \u001b[0;36mwrapper\u001b[0;34m(*args, **kwargs)\u001b[0m\n\u001b[1;32m     60\u001b[0m         \u001b[0;32mif\u001b[0m \u001b[0mclient_mode_should_convert\u001b[0m\u001b[0;34m(\u001b[0m\u001b[0;34m)\u001b[0m\u001b[0;34m:\u001b[0m\u001b[0;34m\u001b[0m\u001b[0;34m\u001b[0m\u001b[0m\n\u001b[0;32m---> 61\u001b[0;31m             \u001b[0;32mreturn\u001b[0m \u001b[0mgetattr\u001b[0m\u001b[0;34m(\u001b[0m\u001b[0mray\u001b[0m\u001b[0;34m,\u001b[0m \u001b[0mfunc\u001b[0m\u001b[0;34m.\u001b[0m\u001b[0m__name__\u001b[0m\u001b[0;34m)\u001b[0m\u001b[0;34m(\u001b[0m\u001b[0;34m*\u001b[0m\u001b[0margs\u001b[0m\u001b[0;34m,\u001b[0m \u001b[0;34m**\u001b[0m\u001b[0mkwargs\u001b[0m\u001b[0;34m)\u001b[0m\u001b[0;34m\u001b[0m\u001b[0;34m\u001b[0m\u001b[0m\n\u001b[0m\u001b[1;32m     62\u001b[0m         \u001b[0;32mreturn\u001b[0m \u001b[0mfunc\u001b[0m\u001b[0;34m(\u001b[0m\u001b[0;34m*\u001b[0m\u001b[0margs\u001b[0m\u001b[0;34m,\u001b[0m \u001b[0;34m**\u001b[0m\u001b[0mkwargs\u001b[0m\u001b[0;34m)\u001b[0m\u001b[0;34m\u001b[0m\u001b[0;34m\u001b[0m\u001b[0m\n",
      "\u001b[0;32m~/env/neurosci/lib/python3.7/site-packages/ray/util/client/api.py\u001b[0m in \u001b[0;36mget_actor\u001b[0;34m(self, name)\u001b[0m\n\u001b[1;32m    140\u001b[0m         \"\"\"\n\u001b[0;32m--> 141\u001b[0;31m         \u001b[0;32mreturn\u001b[0m \u001b[0mself\u001b[0m\u001b[0;34m.\u001b[0m\u001b[0mworker\u001b[0m\u001b[0;34m.\u001b[0m\u001b[0mget_actor\u001b[0m\u001b[0;34m(\u001b[0m\u001b[0mname\u001b[0m\u001b[0;34m)\u001b[0m\u001b[0;34m\u001b[0m\u001b[0;34m\u001b[0m\u001b[0m\n\u001b[0m\u001b[1;32m    142\u001b[0m \u001b[0;34m\u001b[0m\u001b[0m\n",
      "\u001b[0;32m~/env/neurosci/lib/python3.7/site-packages/ray/util/client/worker.py\u001b[0m in \u001b[0;36mget_actor\u001b[0;34m(self, name)\u001b[0m\n\u001b[1;32m    355\u001b[0m         \u001b[0mtask\u001b[0m\u001b[0;34m.\u001b[0m\u001b[0mname\u001b[0m \u001b[0;34m=\u001b[0m \u001b[0mname\u001b[0m\u001b[0;34m\u001b[0m\u001b[0;34m\u001b[0m\u001b[0m\n\u001b[0;32m--> 356\u001b[0;31m         \u001b[0mids\u001b[0m \u001b[0;34m=\u001b[0m \u001b[0mself\u001b[0m\u001b[0;34m.\u001b[0m\u001b[0m_call_schedule_for_task\u001b[0m\u001b[0;34m(\u001b[0m\u001b[0mtask\u001b[0m\u001b[0;34m)\u001b[0m\u001b[0;34m\u001b[0m\u001b[0;34m\u001b[0m\u001b[0m\n\u001b[0m\u001b[1;32m    357\u001b[0m         \u001b[0;32massert\u001b[0m \u001b[0mlen\u001b[0m\u001b[0;34m(\u001b[0m\u001b[0mids\u001b[0m\u001b[0;34m)\u001b[0m \u001b[0;34m==\u001b[0m \u001b[0;36m1\u001b[0m\u001b[0;34m\u001b[0m\u001b[0;34m\u001b[0m\u001b[0m\n",
      "\u001b[0;32m~/env/neurosci/lib/python3.7/site-packages/ray/util/client/worker.py\u001b[0m in \u001b[0;36m_call_schedule_for_task\u001b[0;34m(self, task)\u001b[0m\n\u001b[1;32m    317\u001b[0m             \u001b[0;32mtry\u001b[0m\u001b[0;34m:\u001b[0m\u001b[0;34m\u001b[0m\u001b[0;34m\u001b[0m\u001b[0m\n\u001b[0;32m--> 318\u001b[0;31m                 \u001b[0;32mraise\u001b[0m \u001b[0mcloudpickle\u001b[0m\u001b[0;34m.\u001b[0m\u001b[0mloads\u001b[0m\u001b[0;34m(\u001b[0m\u001b[0mticket\u001b[0m\u001b[0;34m.\u001b[0m\u001b[0merror\u001b[0m\u001b[0;34m)\u001b[0m\u001b[0;34m\u001b[0m\u001b[0;34m\u001b[0m\u001b[0m\n\u001b[0m\u001b[1;32m    319\u001b[0m             \u001b[0;32mexcept\u001b[0m \u001b[0mpickle\u001b[0m\u001b[0;34m.\u001b[0m\u001b[0mUnpicklingError\u001b[0m\u001b[0;34m:\u001b[0m\u001b[0;34m\u001b[0m\u001b[0;34m\u001b[0m\u001b[0m\n",
      "\u001b[0;31mValueError\u001b[0m: Failed to look up actor with name 'SERVE_CONTROLLER_ACTOR'. You are either trying to look up a named actor you didn't create, the named actor died, or the actor hasn't been created because named actor creation is asynchronous.",
      "\nDuring handling of the above exception, another exception occurred:\n",
      "\u001b[0;31mRayServeException\u001b[0mTraceback (most recent call last)",
      "\u001b[0;32m<ipython-input-18-e4b3ce5bda1f>\u001b[0m in \u001b[0;36m<module>\u001b[0;34m\u001b[0m\n\u001b[0;32m----> 1\u001b[0;31m \u001b[0mserve\u001b[0m\u001b[0;34m.\u001b[0m\u001b[0mconnect\u001b[0m\u001b[0;34m(\u001b[0m\u001b[0;34m)\u001b[0m\u001b[0;34m\u001b[0m\u001b[0;34m\u001b[0m\u001b[0m\n\u001b[0m",
      "\u001b[0;32m~/env/neurosci/lib/python3.7/site-packages/ray/serve/api.py\u001b[0m in \u001b[0;36mconnect\u001b[0;34m()\u001b[0m\n\u001b[1;32m    741\u001b[0m         \u001b[0mcontroller\u001b[0m \u001b[0;34m=\u001b[0m \u001b[0mray\u001b[0m\u001b[0;34m.\u001b[0m\u001b[0mget_actor\u001b[0m\u001b[0;34m(\u001b[0m\u001b[0mcontroller_name\u001b[0m\u001b[0;34m)\u001b[0m\u001b[0;34m\u001b[0m\u001b[0;34m\u001b[0m\u001b[0m\n\u001b[1;32m    742\u001b[0m     \u001b[0;32mexcept\u001b[0m \u001b[0mValueError\u001b[0m\u001b[0;34m:\u001b[0m\u001b[0;34m\u001b[0m\u001b[0;34m\u001b[0m\u001b[0m\n\u001b[0;32m--> 743\u001b[0;31m         raise RayServeException(\"Called `serve.connect()` but there is no \"\n\u001b[0m\u001b[1;32m    744\u001b[0m                                 \u001b[0;34m\"instance running on this Ray cluster. Please \"\u001b[0m\u001b[0;34m\u001b[0m\u001b[0;34m\u001b[0m\u001b[0m\n\u001b[1;32m    745\u001b[0m                                 \u001b[0;34m\"call `serve.start(detached=True) to start \"\u001b[0m\u001b[0;34m\u001b[0m\u001b[0;34m\u001b[0m\u001b[0m\n",
      "\u001b[0;31mRayServeException\u001b[0m: Called `serve.connect()` but there is no instance running on this Ray cluster. Please call `serve.start(detached=True) to start one."
     ]
    }
   ],
   "source": [
    "serve.connect()"
   ]
  },
  {
   "cell_type": "code",
   "execution_count": 20,
   "id": "326ac107",
   "metadata": {},
   "outputs": [
    {
     "ename": "ValueError",
     "evalue": "Failed to look up actor with name 'nest_server'. You are either trying to look up a named actor you didn't create, the named actor died, or the actor hasn't been created because named actor creation is asynchronous.",
     "output_type": "error",
     "traceback": [
      "\u001b[0;31m\u001b[0m",
      "\u001b[0;31mValueError\u001b[0mTraceback (most recent call last)",
      "\u001b[0;32m<ipython-input-20-4c89d1e7be58>\u001b[0m in \u001b[0;36m<module>\u001b[0;34m\u001b[0m\n\u001b[0;32m----> 1\u001b[0;31m \u001b[0mray\u001b[0m\u001b[0;34m.\u001b[0m\u001b[0mget_actor\u001b[0m\u001b[0;34m(\u001b[0m\u001b[0;34m\"nest_server\"\u001b[0m\u001b[0;34m)\u001b[0m\u001b[0;34m\u001b[0m\u001b[0;34m\u001b[0m\u001b[0m\n\u001b[0m",
      "\u001b[0;32m~/env/neurosci/lib/python3.7/site-packages/ray/_private/client_mode_hook.py\u001b[0m in \u001b[0;36mwrapper\u001b[0;34m(*args, **kwargs)\u001b[0m\n\u001b[1;32m     59\u001b[0m     \u001b[0;32mdef\u001b[0m \u001b[0mwrapper\u001b[0m\u001b[0;34m(\u001b[0m\u001b[0;34m*\u001b[0m\u001b[0margs\u001b[0m\u001b[0;34m,\u001b[0m \u001b[0;34m**\u001b[0m\u001b[0mkwargs\u001b[0m\u001b[0;34m)\u001b[0m\u001b[0;34m:\u001b[0m\u001b[0;34m\u001b[0m\u001b[0;34m\u001b[0m\u001b[0m\n\u001b[1;32m     60\u001b[0m         \u001b[0;32mif\u001b[0m \u001b[0mclient_mode_should_convert\u001b[0m\u001b[0;34m(\u001b[0m\u001b[0;34m)\u001b[0m\u001b[0;34m:\u001b[0m\u001b[0;34m\u001b[0m\u001b[0;34m\u001b[0m\u001b[0m\n\u001b[0;32m---> 61\u001b[0;31m             \u001b[0;32mreturn\u001b[0m \u001b[0mgetattr\u001b[0m\u001b[0;34m(\u001b[0m\u001b[0mray\u001b[0m\u001b[0;34m,\u001b[0m \u001b[0mfunc\u001b[0m\u001b[0;34m.\u001b[0m\u001b[0m__name__\u001b[0m\u001b[0;34m)\u001b[0m\u001b[0;34m(\u001b[0m\u001b[0;34m*\u001b[0m\u001b[0margs\u001b[0m\u001b[0;34m,\u001b[0m \u001b[0;34m**\u001b[0m\u001b[0mkwargs\u001b[0m\u001b[0;34m)\u001b[0m\u001b[0;34m\u001b[0m\u001b[0;34m\u001b[0m\u001b[0m\n\u001b[0m\u001b[1;32m     62\u001b[0m         \u001b[0;32mreturn\u001b[0m \u001b[0mfunc\u001b[0m\u001b[0;34m(\u001b[0m\u001b[0;34m*\u001b[0m\u001b[0margs\u001b[0m\u001b[0;34m,\u001b[0m \u001b[0;34m**\u001b[0m\u001b[0mkwargs\u001b[0m\u001b[0;34m)\u001b[0m\u001b[0;34m\u001b[0m\u001b[0;34m\u001b[0m\u001b[0m\n\u001b[1;32m     63\u001b[0m \u001b[0;34m\u001b[0m\u001b[0m\n",
      "\u001b[0;32m~/env/neurosci/lib/python3.7/site-packages/ray/util/client/api.py\u001b[0m in \u001b[0;36mget_actor\u001b[0;34m(self, name)\u001b[0m\n\u001b[1;32m    139\u001b[0m               \u001b[0mActor\u001b[0m\u001b[0;34m.\u001b[0m\u001b[0moptions\u001b[0m\u001b[0;34m(\u001b[0m\u001b[0mname\u001b[0m\u001b[0;34m=\u001b[0m\u001b[0;34m\"name\"\u001b[0m\u001b[0;34m)\u001b[0m\u001b[0;34m.\u001b[0m\u001b[0mremote\u001b[0m\u001b[0;34m(\u001b[0m\u001b[0;34m)\u001b[0m\u001b[0;34m\u001b[0m\u001b[0;34m\u001b[0m\u001b[0m\n\u001b[1;32m    140\u001b[0m         \"\"\"\n\u001b[0;32m--> 141\u001b[0;31m         \u001b[0;32mreturn\u001b[0m \u001b[0mself\u001b[0m\u001b[0;34m.\u001b[0m\u001b[0mworker\u001b[0m\u001b[0;34m.\u001b[0m\u001b[0mget_actor\u001b[0m\u001b[0;34m(\u001b[0m\u001b[0mname\u001b[0m\u001b[0;34m)\u001b[0m\u001b[0;34m\u001b[0m\u001b[0;34m\u001b[0m\u001b[0m\n\u001b[0m\u001b[1;32m    142\u001b[0m \u001b[0;34m\u001b[0m\u001b[0m\n\u001b[1;32m    143\u001b[0m     \u001b[0;32mdef\u001b[0m \u001b[0mkill\u001b[0m\u001b[0;34m(\u001b[0m\u001b[0mself\u001b[0m\u001b[0;34m,\u001b[0m \u001b[0mactor\u001b[0m\u001b[0;34m:\u001b[0m \u001b[0;34m\"ClientActorHandle\"\u001b[0m\u001b[0;34m,\u001b[0m \u001b[0;34m*\u001b[0m\u001b[0;34m,\u001b[0m \u001b[0mno_restart\u001b[0m\u001b[0;34m=\u001b[0m\u001b[0;32mTrue\u001b[0m\u001b[0;34m)\u001b[0m\u001b[0;34m:\u001b[0m\u001b[0;34m\u001b[0m\u001b[0;34m\u001b[0m\u001b[0m\n",
      "\u001b[0;32m~/env/neurosci/lib/python3.7/site-packages/ray/util/client/worker.py\u001b[0m in \u001b[0;36mget_actor\u001b[0;34m(self, name)\u001b[0m\n\u001b[1;32m    354\u001b[0m         \u001b[0mtask\u001b[0m\u001b[0;34m.\u001b[0m\u001b[0mtype\u001b[0m \u001b[0;34m=\u001b[0m \u001b[0mray_client_pb2\u001b[0m\u001b[0;34m.\u001b[0m\u001b[0mClientTask\u001b[0m\u001b[0;34m.\u001b[0m\u001b[0mNAMED_ACTOR\u001b[0m\u001b[0;34m\u001b[0m\u001b[0;34m\u001b[0m\u001b[0m\n\u001b[1;32m    355\u001b[0m         \u001b[0mtask\u001b[0m\u001b[0;34m.\u001b[0m\u001b[0mname\u001b[0m \u001b[0;34m=\u001b[0m \u001b[0mname\u001b[0m\u001b[0;34m\u001b[0m\u001b[0;34m\u001b[0m\u001b[0m\n\u001b[0;32m--> 356\u001b[0;31m         \u001b[0mids\u001b[0m \u001b[0;34m=\u001b[0m \u001b[0mself\u001b[0m\u001b[0;34m.\u001b[0m\u001b[0m_call_schedule_for_task\u001b[0m\u001b[0;34m(\u001b[0m\u001b[0mtask\u001b[0m\u001b[0;34m)\u001b[0m\u001b[0;34m\u001b[0m\u001b[0;34m\u001b[0m\u001b[0m\n\u001b[0m\u001b[1;32m    357\u001b[0m         \u001b[0;32massert\u001b[0m \u001b[0mlen\u001b[0m\u001b[0;34m(\u001b[0m\u001b[0mids\u001b[0m\u001b[0;34m)\u001b[0m \u001b[0;34m==\u001b[0m \u001b[0;36m1\u001b[0m\u001b[0;34m\u001b[0m\u001b[0;34m\u001b[0m\u001b[0m\n\u001b[1;32m    358\u001b[0m         \u001b[0;32mreturn\u001b[0m \u001b[0mClientActorHandle\u001b[0m\u001b[0;34m(\u001b[0m\u001b[0mClientActorRef\u001b[0m\u001b[0;34m(\u001b[0m\u001b[0mids\u001b[0m\u001b[0;34m[\u001b[0m\u001b[0;36m0\u001b[0m\u001b[0;34m]\u001b[0m\u001b[0;34m)\u001b[0m\u001b[0;34m)\u001b[0m\u001b[0;34m\u001b[0m\u001b[0;34m\u001b[0m\u001b[0m\n",
      "\u001b[0;32m~/env/neurosci/lib/python3.7/site-packages/ray/util/client/worker.py\u001b[0m in \u001b[0;36m_call_schedule_for_task\u001b[0;34m(self, task)\u001b[0m\n\u001b[1;32m    316\u001b[0m         \u001b[0;32mif\u001b[0m \u001b[0;32mnot\u001b[0m \u001b[0mticket\u001b[0m\u001b[0;34m.\u001b[0m\u001b[0mvalid\u001b[0m\u001b[0;34m:\u001b[0m\u001b[0;34m\u001b[0m\u001b[0;34m\u001b[0m\u001b[0m\n\u001b[1;32m    317\u001b[0m             \u001b[0;32mtry\u001b[0m\u001b[0;34m:\u001b[0m\u001b[0;34m\u001b[0m\u001b[0;34m\u001b[0m\u001b[0m\n\u001b[0;32m--> 318\u001b[0;31m                 \u001b[0;32mraise\u001b[0m \u001b[0mcloudpickle\u001b[0m\u001b[0;34m.\u001b[0m\u001b[0mloads\u001b[0m\u001b[0;34m(\u001b[0m\u001b[0mticket\u001b[0m\u001b[0;34m.\u001b[0m\u001b[0merror\u001b[0m\u001b[0;34m)\u001b[0m\u001b[0;34m\u001b[0m\u001b[0;34m\u001b[0m\u001b[0m\n\u001b[0m\u001b[1;32m    319\u001b[0m             \u001b[0;32mexcept\u001b[0m \u001b[0mpickle\u001b[0m\u001b[0;34m.\u001b[0m\u001b[0mUnpicklingError\u001b[0m\u001b[0;34m:\u001b[0m\u001b[0;34m\u001b[0m\u001b[0;34m\u001b[0m\u001b[0m\n\u001b[1;32m    320\u001b[0m                 logger.exception(\"Failed to deserialize {}\".format(\n",
      "\u001b[0;31mValueError\u001b[0m: Failed to look up actor with name 'nest_server'. You are either trying to look up a named actor you didn't create, the named actor died, or the actor hasn't been created because named actor creation is asynchronous."
     ]
    },
    {
     "name": "stderr",
     "output_type": "stream",
     "text": [
      "\u001b[2m\u001b[36m(pid=137)\u001b[0m 2021-06-23 16:26:00,015\tINFO backend_state.py:773 -- Adding 1 replicas to backend 'NESTRayServer'.\n",
      "\u001b[2m\u001b[36m(pid=137)\u001b[0m 2021-06-23 16:26:00,015\tINFO backend_state.py:773 -- Adding 1 replicas to backend 'NESTRayServer'.\n"
     ]
    },
    {
     "name": "stdout",
     "output_type": "stream",
     "text": [
      "\u001b[2m\u001b[36m(pid=496)\u001b[0m 2021-06-23 16:26:02,416 - INFO - tvb_multiscale.tvb_nest.config - Loading a NEST instance...\n",
      "\u001b[2m\u001b[36m(pid=496)\u001b[0m 2021-06-23 16:26:02,416 - INFO - tvb_multiscale.tvb_nest.config - Loading a NEST instance...\n",
      "\u001b[2m\u001b[36m(pid=496)\u001b[0m 2021-06-23 16:26:02,418 - INFO - tvb_multiscale.tvb_nest.config - NEST_INSTALL_DIR: /home/docker/env/neurosci/nest_build\n",
      "\u001b[2m\u001b[36m(pid=496)\u001b[0m 2021-06-23 16:26:02,418 - INFO - tvb_multiscale.tvb_nest.config - NEST_INSTALL_DIR: /home/docker/env/neurosci/nest_build\n",
      "\u001b[2m\u001b[36m(pid=496)\u001b[0m 2021-06-23 16:26:02,419 - INFO - tvb_multiscale.tvb_nest.config - NEST_DATA_DIR: /home/docker/env/neurosci/nest_build/share/nest\u001b[2m\u001b[36m(pid=496)\u001b[0m 2021-06-23 16:26:02,416 - INFO - tvb_multiscale.tvb_nest.config - Loading a NEST instance...\n",
      "\n",
      "\u001b[2m\u001b[36m(pid=496)\u001b[0m 2021-06-23 16:26:02,416 - INFO - tvb_multiscale.tvb_nest.config - Loading a NEST instance...\n",
      "\u001b[2m\u001b[36m(pid=496)\u001b[0m 2021-06-23 16:26:02,418 - INFO - tvb_multiscale.tvb_nest.config - NEST_INSTALL_DIR: /home/docker/env/neurosci/nest_build\n",
      "\u001b[2m\u001b[36m(pid=496)\u001b[0m 2021-06-23 16:26:02,419 - INFO - tvb_multiscale.tvb_nest.config - NEST_DATA_DIR: /home/docker/env/neurosci/nest_build/share/nest\n",
      "\u001b[2m\u001b[36m(pid=496)\u001b[0m 2021-06-23 16:26:02,419 - INFO - tvb_multiscale.tvb_nest.config - NEST_DOC_DIR: /home/docker/env/neurosci/nest_build/share/doc/nest\n",
      "\u001b[2m\u001b[36m(pid=496)\u001b[0m 2021-06-23 16:26:02,419 - INFO - tvb_multiscale.tvb_nest.config - NEST_DOC_DIR: /home/docker/env/neurosci/nest_build/share/doc/nest\n",
      "\u001b[2m\u001b[36m(pid=496)\u001b[0m 2021-06-23 16:26:02,420 - INFO - tvb_multiscale.tvb_nest.config - NEST_MODULE_PATH: /home/docker/env/neurosci/nest_build/lib/nest\n",
      "\u001b[2m\u001b[36m(pid=496)\u001b[0m 2021-06-23 16:26:02,420 - INFO - tvb_multiscale.tvb_nest.config - NEST_MODULE_PATH: /home/docker/env/neurosci/nest_build/lib/nest\n",
      "\u001b[2m\u001b[36m(pid=496)\u001b[0m 2021-06-23 16:26:02,421 - INFO - tvb_multiscale.tvb_nest.config - PATH: /home/docker/env/neurosci/nest_build/bin:/usr/local/sbin:/usr/local/bin:/usr/sbin:/usr/bin:/sbin:/bin\n",
      "\u001b[2m\u001b[36m(pid=496)\u001b[0m 2021-06-23 16:26:02,421 - INFO - tvb_multiscale.tvb_nest.config - PATH: /home/docker/env/neurosci/nest_build/bin:/usr/local/sbin:/usr/local/bin:/usr/sbin:/usr/bin:/sbin:/bin\n",
      "\u001b[2m\u001b[36m(pid=496)\u001b[0m 2021-06-23 16:26:02,423 - INFO - tvb_multiscale.tvb_nest.config - LD_LIBRARY_PATH: /home/docker/env/neurosci/nest_build/lib/nest::/home/docker/env/neurosci/nest_build/lib/nest\n",
      "\u001b[2m\u001b[36m(pid=496)\u001b[0m 2021-06-23 16:26:02,423 - INFO - tvb_multiscale.tvb_nest.config - LD_LIBRARY_PATH: /home/docker/env/neurosci/nest_build/lib/nest::/home/docker/env/neurosci/nest_build/lib/nest\n",
      "\u001b[2m\u001b[36m(pid=496)\u001b[0m 2021-06-23 16:26:02,424 - INFO - tvb_multiscale.tvb_nest.config - SLI_PATH: /home/docker/env/neurosci/nest_build/share/nest/sli\n",
      "\u001b[2m\u001b[36m(pid=496)\u001b[0m 2021-06-23 16:26:02,424 - INFO - tvb_multiscale.tvb_nest.config - SLI_PATH: /home/docker/env/neurosci/nest_build/share/nest/sli\n",
      "\u001b[2m\u001b[36m(pid=496)\u001b[0m 2021-06-23 16:26:02,425 - INFO - tvb_multiscale.tvb_nest.config - NEST_PYTHON_PREFIX: /home/docker/env/neurosci/nest_build/lib/python3.7/site-packages\n",
      "\u001b[2m\u001b[36m(pid=496)\u001b[0m 2021-06-23 16:26:02,425 - INFO - tvb_multiscale.tvb_nest.config - NEST_PYTHON_PREFIX: /home/docker/env/neurosci/nest_build/lib/python3.7/site-packages\n",
      "\u001b[2m\u001b[36m(pid=496)\u001b[0m 2021-06-23 16:26:02,426 - INFO - tvb_multiscale.tvb_nest.config - system path: ['/home/docker/env/neurosci/nest_build/lib/python3.7/site-packages', '/home/docker/env/neurosci/lib/python3.7/site-packages/ray/thirdparty_files', '/home/docker/packages/tvb-multiscale/examples/notebooks', '/home/docker/env/neurosci/lib/python3.7/site-packages', '/home/docker/env/neurosci/lib/python3.7/site-packages/ray/pickle5_files', '/home/docker/env/neurosci/lib/python3.7/site-packages/ray/workers', '/home/docker/env/neurosci', '/usr/lib/python37.zip', '/usr/lib/python3.7', '/usr/lib/python3.7/lib-dynload', '/home/docker/env/neurosci/lib/python3.7/site-packages', '/home/docker/env/neurosci/lib/python3.7/site-packages/NESTML-3.1.post0.dev0-py3.7.egg', '/home/docker/env/neurosci/lib/python3.7/site-packages/typing-3.10.0.0-py3.7.egg', '/home/docker/env/neurosci/lib/python3.7/site-packages/sympy-1.8-py3.7.egg', '/home/docker/env/neurosci/lib/python3.7/site-packages/odetoolbox-2.2-py3.7.egg', '/home/docker/env/neurosci/lib/python3.7/site-packages/astropy-2.0.3-py3.7-linux-x86_64.egg', '/home/docker/env/neurosci/lib/python3.7/site-packages/antlr4_python3_runtime-4.9.2-py3.7.egg', '/home/docker/env/neurosci/lib/python3.7/site-packages/mpmath-1.2.1-py3.7.egg', '/home/docker/env/neurosci/lib/python3.7/site-packages/pytest-6.2.4-py3.7.egg', '/home/docker/env/neurosci/lib/python3.7/site-packages/toml-0.10.2-py3.7.egg', '/home/docker/env/neurosci/lib/python3.7/site-packages/py-1.10.0-py3.7.egg', '/home/docker/env/neurosci/lib/python3.7/site-packages/pluggy-1.0.0.dev0-py3.7.egg', '/home/docker/env/neurosci/lib/python3.7/site-packages/packaging-20.9-py3.7.egg', '/home/docker/env/neurosci/lib/python3.7/site-packages/iniconfig-1.1.1-py3.7.egg', '/home/docker/env/neurosci/lib/python3.7/site-packages/importlib_metadata-4.5.0-py3.7.egg', '/home/docker/env/neurosci/lib/python3.7/site-packages/attrs-21.2.0-py3.7.egg', '/home/docker/env/neurosci/lib/python3.7/site-packages/zipp-3.4.1-py3.7.egg', '/home/docker/packages/tvb_data', '/home/docker/packages/tvb-root/scientific_library', '/home/docker/env/neurosci/lib/python3.7/site-packages/numexpr-2.7.3-py3.7-linux-x86_64.egg', '/home/docker/env/neurosci/lib/python3.7/site-packages/networkx-2.6rc1-py3.7.egg', '/home/docker/env/neurosci/lib/python3.7/site-packages/Mako-1.1.4-py3.7.egg', '/home/docker/env/neurosci/lib/python3.7/site-packages/decorator-5.0.9-py3.7.egg', '/home/docker/packages/tvb-root/framework_tvb', '/home/docker/env/neurosci/lib/python3.7/site-packages/Werkzeug-2.0.1-py3.7.egg', '/home/docker/env/neurosci/lib/python3.7/site-packages/tvb_library-2.2-py3.7.egg', '/home/docker/env/neurosci/lib/python3.7/site-packages/tvb_gdist-2.1.0-py3.7-linux-x86_64.egg', '/home/docker/env/neurosci/lib/python3.7/site-packages/tvb_data-2.0-py3.7.egg', '/home/docker/env/neurosci/lib/python3.7/site-packages/simplejson-3.17.2-py3.7-linux-x86_64.egg', '/home/docker/env/neurosci/lib/python3.7/site-packages/python_keycloak-0.25.0-py3.7.egg', '/home/docker/env/neurosci/lib/python3.7/site-packages/pyAesCrypt-6.0.0-py3.7.egg', '/home/docker/env/neurosci/lib/python3.7/site-packages/psutil-5.8.0-py3.7-linux-x86_64.egg', '/home/docker/env/neurosci/lib/python3.7/site-packages/nibabel-3.2.1-py3.7.egg', '/home/docker/env/neurosci/lib/python3.7/site-packages/h5py-2.10.0-py3.7-linux-x86_64.egg', '/home/docker/env/neurosci/lib/python3.7/site-packages/gevent-21.1.2-py3.7-linux-x86_64.egg', '/home/docker/env/neurosci/lib/python3.7/site-packages/FormEncode-2.0.0-py3.7.egg', '/home/docker/env/neurosci/lib/python3.7/site-packages/flask_restplus-0.13.0-py3.7.egg', '/home/docker/packages/tvb-root/tvb_contrib', '/home/docker/packages/tvb-multiscale', '/home/docker/env/neurosci/lib/python3.7/site-packages/pyspike-0.6.0-py3.7-linux-x86_64.egg', '/usr/lib/python3/dist-packages', '/home/docker/.local/lib/python3.7/site-packages', '/home/docker/.local/lib/python3.7/site-packages/ANNarchy-4.6.10.1-py3.7-linux-x86_64.egg', '/usr/local/lib/python3.7/dist-packages']\n",
      "\u001b[2m\u001b[36m(pid=496)\u001b[0m 2021-06-23 16:26:02,426 - INFO - tvb_multiscale.tvb_nest.config - system path: ['/home/docker/env/neurosci/nest_build/lib/python3.7/site-packages', '/home/docker/env/neurosci/lib/python3.7/site-packages/ray/thirdparty_files', '/home/docker/packages/tvb-multiscale/examples/notebooks', '/home/docker/env/neurosci/lib/python3.7/site-packages', '/home/docker/env/neurosci/lib/python3.7/site-packages/ray/pickle5_files', '/home/docker/env/neurosci/lib/python3.7/site-packages/ray/workers', '/home/docker/env/neurosci', '/usr/lib/python37.zip', '/usr/lib/python3.7', '/usr/lib/python3.7/lib-dynload', '/home/docker/env/neurosci/lib/python3.7/site-packages', '/home/docker/env/neurosci/lib/python3.7/site-packages/NESTML-3.1.post0.dev0-py3.7.egg', '/home/docker/env/neurosci/lib/python3.7/site-packages/typing-3.10.0.0-py3.7.egg', '/home/docker/env/neurosci/lib/python3.7/site-packages/sympy-1.8-py3.7.egg', '/home/docker/env/neurosci/lib/python3.7/site-packages/odetoolbox-2.2-py3.7.egg', '/home/docker/env/neurosci/lib/python3.7/site-packages/astropy-2.0.3-py3.7-linux-x86_64.egg', '/home/docker/env/neurosci/lib/python3.7/site-packages/antlr4_python3_runtime-4.9.2-py3.7.egg', '/home/docker/env/neurosci/lib/python3.7/site-packages/mpmath-1.2.1-py3.7.egg', '/home/docker/env/neurosci/lib/python3.7/site-packages/pytest-6.2.4-py3.7.egg', '/home/docker/env/neurosci/lib/python3.7/site-packages/toml-0.10.2-py3.7.egg', '/home/docker/env/neurosci/lib/python3.7/site-packages/py-1.10.0-py3.7.egg', '/home/docker/env/neurosci/lib/python3.7/site-packages/pluggy-1.0.0.dev0-py3.7.egg', '/home/docker/env/neurosci/lib/python3.7/site-packages/packaging-20.9-py3.7.egg', '/home/docker/env/neurosci/lib/python3.7/site-packages/iniconfig-1.1.1-py3.7.egg', '/home/docker/env/neurosci/lib/python3.7/site-packages/importlib_metadata-4.5.0-py3.7.egg', '/home/docker/env/neurosci/lib/python3.7/site-packages/attrs-21.2.0-py3.7.egg', '/home/docker/env/neurosci/lib/python3.7/site-packages/zipp-3.4.1-py3.7.egg', '/home/docker/packages/tvb_data', '/home/docker/packages/tvb-root/scientific_library', '/home/docker/env/neurosci/lib/python3.7/site-packages/numexpr-2.7.3-py3.7-linux-x86_64.egg', '/home/docker/env/neurosci/lib/python3.7/site-packages/networkx-2.6rc1-py3.7.egg', '/home/docker/env/neurosci/lib/python3.7/site-packages/Mako-1.1.4-py3.7.egg', '/home/docker/env/neurosci/lib/python3.7/site-packages/decorator-5.0.9-py3.7.egg', '/home/docker/packages/tvb-root/framework_tvb', '/home/docker/env/neurosci/lib/python3.7/site-packages/Werkzeug-2.0.1-py3.7.egg', '/home/docker/env/neurosci/lib/python3.7/site-packages/tvb_library-2.2-py3.7.egg', '/home/docker/env/neurosci/lib/python3.7/site-packages/tvb_gdist-2.1.0-py3.7-linux-x86_64.egg', '/home/docker/env/neurosci/lib/python3.7/site-packages/tvb_data-2.0-py3.7.egg', '/home/docker/env/neurosci/lib/python3.7/site-packages/simplejson-3.17.2-py3.7-linux-x86_64.egg', '/home/docker/env/neurosci/lib/python3.7/site-packages/python_keycloak-0.25.0-py3.7.egg', '/home/docker/env/neurosci/lib/python3.7/site-packages/pyAesCrypt-6.0.0-py3.7.egg', '/home/docker/env/neurosci/lib/python3.7/site-packages/psutil-5.8.0-py3.7-linux-x86_64.egg', '/home/docker/env/neurosci/lib/python3.7/site-packages/nibabel-3.2.1-py3.7.egg', '/home/docker/env/neurosci/lib/python3.7/site-packages/h5py-2.10.0-py3.7-linux-x86_64.egg', '/home/docker/env/neurosci/lib/python3.7/site-packages/gevent-21.1.2-py3.7-linux-x86_64.egg', '/home/docker/env/neurosci/lib/python3.7/site-packages/FormEncode-2.0.0-py3.7.egg', '/home/docker/env/neurosci/lib/python3.7/site-packages/flask_restplus-0.13.0-py3.7.egg', '/home/docker/packages/tvb-root/tvb_contrib', '/home/docker/packages/tvb-multiscale', '/home/docker/env/neurosci/lib/python3.7/site-packages/pyspike-0.6.0-py3.7-linux-x86_64.egg', '/usr/lib/python3/dist-packages', '/home/docker/.local/lib/python3.7/site-packages', '/home/docker/.local/lib/python3.7/site-packages/ANNarchy-4.6.10.1-py3.7-linux-x86_64.egg', '/usr/local/lib/python3.7/dist-packages']\n",
      "\u001b[2m\u001b[36m(pid=496)\u001b[0m 2021-06-23 16:26:02,418 - INFO - tvb_multiscale.tvb_nest.config - NEST_INSTALL_DIR: /home/docker/env/neurosci/nest_build\n",
      "\u001b[2m\u001b[36m(pid=496)\u001b[0m 2021-06-23 16:26:02,419 - INFO - tvb_multiscale.tvb_nest.config - NEST_DATA_DIR: /home/docker/env/neurosci/nest_build/share/nest\n",
      "\u001b[2m\u001b[36m(pid=496)\u001b[0m 2021-06-23 16:26:02,419 - INFO - tvb_multiscale.tvb_nest.config - NEST_DATA_DIR: /home/docker/env/neurosci/nest_build/share/nest\n",
      "\u001b[2m\u001b[36m(pid=496)\u001b[0m 2021-06-23 16:26:02,419 - INFO - tvb_multiscale.tvb_nest.config - NEST_DOC_DIR: /home/docker/env/neurosci/nest_build/share/doc/nest\n",
      "\u001b[2m\u001b[36m(pid=496)\u001b[0m 2021-06-23 16:26:02,419 - INFO - tvb_multiscale.tvb_nest.config - NEST_DOC_DIR: /home/docker/env/neurosci/nest_build/share/doc/nest\n",
      "\u001b[2m\u001b[36m(pid=496)\u001b[0m 2021-06-23 16:26:02,420 - INFO - tvb_multiscale.tvb_nest.config - NEST_MODULE_PATH: /home/docker/env/neurosci/nest_build/lib/nest\n",
      "\u001b[2m\u001b[36m(pid=496)\u001b[0m 2021-06-23 16:26:02,420 - INFO - tvb_multiscale.tvb_nest.config - NEST_MODULE_PATH: /home/docker/env/neurosci/nest_build/lib/nest\n",
      "\u001b[2m\u001b[36m(pid=496)\u001b[0m 2021-06-23 16:26:02,421 - INFO - tvb_multiscale.tvb_nest.config - PATH: /home/docker/env/neurosci/nest_build/bin:/usr/local/sbin:/usr/local/bin:/usr/sbin:/usr/bin:/sbin:/bin\n",
      "\u001b[2m\u001b[36m(pid=496)\u001b[0m 2021-06-23 16:26:02,421 - INFO - tvb_multiscale.tvb_nest.config - PATH: /home/docker/env/neurosci/nest_build/bin:/usr/local/sbin:/usr/local/bin:/usr/sbin:/usr/bin:/sbin:/bin\n",
      "\u001b[2m\u001b[36m(pid=496)\u001b[0m 2021-06-23 16:26:02,423 - INFO - tvb_multiscale.tvb_nest.config - LD_LIBRARY_PATH: /home/docker/env/neurosci/nest_build/lib/nest::/home/docker/env/neurosci/nest_build/lib/nest\n",
      "\u001b[2m\u001b[36m(pid=496)\u001b[0m 2021-06-23 16:26:02,423 - INFO - tvb_multiscale.tvb_nest.config - LD_LIBRARY_PATH: /home/docker/env/neurosci/nest_build/lib/nest::/home/docker/env/neurosci/nest_build/lib/nest\n",
      "\u001b[2m\u001b[36m(pid=496)\u001b[0m 2021-06-23 16:26:02,424 - INFO - tvb_multiscale.tvb_nest.config - SLI_PATH: /home/docker/env/neurosci/nest_build/share/nest/sli\n",
      "\u001b[2m\u001b[36m(pid=496)\u001b[0m 2021-06-23 16:26:02,424 - INFO - tvb_multiscale.tvb_nest.config - SLI_PATH: /home/docker/env/neurosci/nest_build/share/nest/sli\n",
      "\u001b[2m\u001b[36m(pid=496)\u001b[0m 2021-06-23 16:26:02,425 - INFO - tvb_multiscale.tvb_nest.config - NEST_PYTHON_PREFIX: /home/docker/env/neurosci/nest_build/lib/python3.7/site-packages\n",
      "\u001b[2m\u001b[36m(pid=496)\u001b[0m 2021-06-23 16:26:02,425 - INFO - tvb_multiscale.tvb_nest.config - NEST_PYTHON_PREFIX: /home/docker/env/neurosci/nest_build/lib/python3.7/site-packages\n",
      "\u001b[2m\u001b[36m(pid=496)\u001b[0m 2021-06-23 16:26:02,426 - INFO - tvb_multiscale.tvb_nest.config - system path: ['/home/docker/env/neurosci/nest_build/lib/python3.7/site-packages', '/home/docker/env/neurosci/lib/python3.7/site-packages/ray/thirdparty_files', '/home/docker/packages/tvb-multiscale/examples/notebooks', '/home/docker/env/neurosci/lib/python3.7/site-packages', '/home/docker/env/neurosci/lib/python3.7/site-packages/ray/pickle5_files', '/home/docker/env/neurosci/lib/python3.7/site-packages/ray/workers', '/home/docker/env/neurosci', '/usr/lib/python37.zip', '/usr/lib/python3.7', '/usr/lib/python3.7/lib-dynload', '/home/docker/env/neurosci/lib/python3.7/site-packages', '/home/docker/env/neurosci/lib/python3.7/site-packages/NESTML-3.1.post0.dev0-py3.7.egg', '/home/docker/env/neurosci/lib/python3.7/site-packages/typing-3.10.0.0-py3.7.egg', '/home/docker/env/neurosci/lib/python3.7/site-packages/sympy-1.8-py3.7.egg', '/home/docker/env/neurosci/lib/python3.7/site-packages/odetoolbox-2.2-py3.7.egg', '/home/docker/env/neurosci/lib/python3.7/site-packages/astropy-2.0.3-py3.7-linux-x86_64.egg', '/home/docker/env/neurosci/lib/python3.7/site-packages/antlr4_python3_runtime-4.9.2-py3.7.egg', '/home/docker/env/neurosci/lib/python3.7/site-packages/mpmath-1.2.1-py3.7.egg', '/home/docker/env/neurosci/lib/python3.7/site-packages/pytest-6.2.4-py3.7.egg', '/home/docker/env/neurosci/lib/python3.7/site-packages/toml-0.10.2-py3.7.egg', '/home/docker/env/neurosci/lib/python3.7/site-packages/py-1.10.0-py3.7.egg', '/home/docker/env/neurosci/lib/python3.7/site-packages/pluggy-1.0.0.dev0-py3.7.egg', '/home/docker/env/neurosci/lib/python3.7/site-packages/packaging-20.9-py3.7.egg', '/home/docker/env/neurosci/lib/python3.7/site-packages/iniconfig-1.1.1-py3.7.egg', '/home/docker/env/neurosci/lib/python3.7/site-packages/importlib_metadata-4.5.0-py3.7.egg', '/home/docker/env/neurosci/lib/python3.7/site-packages/attrs-21.2.0-py3.7.egg', '/home/docker/env/neurosci/lib/python3.7/site-packages/zipp-3.4.1-py3.7.egg', '/home/docker/packages/tvb_data', '/home/docker/packages/tvb-root/scientific_library', '/home/docker/env/neurosci/lib/python3.7/site-packages/numexpr-2.7.3-py3.7-linux-x86_64.egg', '/home/docker/env/neurosci/lib/python3.7/site-packages/networkx-2.6rc1-py3.7.egg', '/home/docker/env/neurosci/lib/python3.7/site-packages/Mako-1.1.4-py3.7.egg', '/home/docker/env/neurosci/lib/python3.7/site-packages/decorator-5.0.9-py3.7.egg', '/home/docker/packages/tvb-root/framework_tvb', '/home/docker/env/neurosci/lib/python3.7/site-packages/Werkzeug-2.0.1-py3.7.egg', '/home/docker/env/neurosci/lib/python3.7/site-packages/tvb_library-2.2-py3.7.egg', '/home/docker/env/neurosci/lib/python3.7/site-packages/tvb_gdist-2.1.0-py3.7-linux-x86_64.egg', '/home/docker/env/neurosci/lib/python3.7/site-packages/tvb_data-2.0-py3.7.egg', '/home/docker/env/neurosci/lib/python3.7/site-packages/simplejson-3.17.2-py3.7-linux-x86_64.egg', '/home/docker/env/neurosci/lib/python3.7/site-packages/python_keycloak-0.25.0-py3.7.egg', '/home/docker/env/neurosci/lib/python3.7/site-packages/pyAesCrypt-6.0.0-py3.7.egg', '/home/docker/env/neurosci/lib/python3.7/site-packages/psutil-5.8.0-py3.7-linux-x86_64.egg', '/home/docker/env/neurosci/lib/python3.7/site-packages/nibabel-3.2.1-py3.7.egg', '/home/docker/env/neurosci/lib/python3.7/site-packages/h5py-2.10.0-py3.7-linux-x86_64.egg', '/home/docker/env/neurosci/lib/python3.7/site-packages/gevent-21.1.2-py3.7-linux-x86_64.egg', '/home/docker/env/neurosci/lib/python3.7/site-packages/FormEncode-2.0.0-py3.7.egg', '/home/docker/env/neurosci/lib/python3.7/site-packages/flask_restplus-0.13.0-py3.7.egg', '/home/docker/packages/tvb-root/tvb_contrib', '/home/docker/packages/tvb-multiscale', '/home/docker/env/neurosci/lib/python3.7/site-packages/pyspike-0.6.0-py3.7-linux-x86_64.egg', '/usr/lib/python3/dist-packages', '/home/docker/.local/lib/python3.7/site-packages', '/home/docker/.local/lib/python3.7/site-packages/ANNarchy-4.6.10.1-py3.7-linux-x86_64.egg', '/usr/local/lib/python3.7/dist-packages']\n",
      "\u001b[2m\u001b[36m(pid=496)\u001b[0m 2021-06-23 16:26:02,426 - INFO - tvb_multiscale.tvb_nest.config - system path: ['/home/docker/env/neurosci/nest_build/lib/python3.7/site-packages', '/home/docker/env/neurosci/lib/python3.7/site-packages/ray/thirdparty_files', '/home/docker/packages/tvb-multiscale/examples/notebooks', '/home/docker/env/neurosci/lib/python3.7/site-packages', '/home/docker/env/neurosci/lib/python3.7/site-packages/ray/pickle5_files', '/home/docker/env/neurosci/lib/python3.7/site-packages/ray/workers', '/home/docker/env/neurosci', '/usr/lib/python37.zip', '/usr/lib/python3.7', '/usr/lib/python3.7/lib-dynload', '/home/docker/env/neurosci/lib/python3.7/site-packages', '/home/docker/env/neurosci/lib/python3.7/site-packages/NESTML-3.1.post0.dev0-py3.7.egg', '/home/docker/env/neurosci/lib/python3.7/site-packages/typing-3.10.0.0-py3.7.egg', '/home/docker/env/neurosci/lib/python3.7/site-packages/sympy-1.8-py3.7.egg', '/home/docker/env/neurosci/lib/python3.7/site-packages/odetoolbox-2.2-py3.7.egg', '/home/docker/env/neurosci/lib/python3.7/site-packages/astropy-2.0.3-py3.7-linux-x86_64.egg', '/home/docker/env/neurosci/lib/python3.7/site-packages/antlr4_python3_runtime-4.9.2-py3.7.egg', '/home/docker/env/neurosci/lib/python3.7/site-packages/mpmath-1.2.1-py3.7.egg', '/home/docker/env/neurosci/lib/python3.7/site-packages/pytest-6.2.4-py3.7.egg', '/home/docker/env/neurosci/lib/python3.7/site-packages/toml-0.10.2-py3.7.egg', '/home/docker/env/neurosci/lib/python3.7/site-packages/py-1.10.0-py3.7.egg', '/home/docker/env/neurosci/lib/python3.7/site-packages/pluggy-1.0.0.dev0-py3.7.egg', '/home/docker/env/neurosci/lib/python3.7/site-packages/packaging-20.9-py3.7.egg', '/home/docker/env/neurosci/lib/python3.7/site-packages/iniconfig-1.1.1-py3.7.egg', '/home/docker/env/neurosci/lib/python3.7/site-packages/importlib_metadata-4.5.0-py3.7.egg', '/home/docker/env/neurosci/lib/python3.7/site-packages/attrs-21.2.0-py3.7.egg', '/home/docker/env/neurosci/lib/python3.7/site-packages/zipp-3.4.1-py3.7.egg', '/home/docker/packages/tvb_data', '/home/docker/packages/tvb-root/scientific_library', '/home/docker/env/neurosci/lib/python3.7/site-packages/numexpr-2.7.3-py3.7-linux-x86_64.egg', '/home/docker/env/neurosci/lib/python3.7/site-packages/networkx-2.6rc1-py3.7.egg', '/home/docker/env/neurosci/lib/python3.7/site-packages/Mako-1.1.4-py3.7.egg', '/home/docker/env/neurosci/lib/python3.7/site-packages/decorator-5.0.9-py3.7.egg', '/home/docker/packages/tvb-root/framework_tvb', '/home/docker/env/neurosci/lib/python3.7/site-packages/Werkzeug-2.0.1-py3.7.egg', '/home/docker/env/neurosci/lib/python3.7/site-packages/tvb_library-2.2-py3.7.egg', '/home/docker/env/neurosci/lib/python3.7/site-packages/tvb_gdist-2.1.0-py3.7-linux-x86_64.egg', '/home/docker/env/neurosci/lib/python3.7/site-packages/tvb_data-2.0-py3.7.egg', '/home/docker/env/neurosci/lib/python3.7/site-packages/simplejson-3.17.2-py3.7-linux-x86_64.egg', '/home/docker/env/neurosci/lib/python3.7/site-packages/python_keycloak-0.25.0-py3.7.egg', '/home/docker/env/neurosci/lib/python3.7/site-packages/pyAesCrypt-6.0.0-py3.7.egg', '/home/docker/env/neurosci/lib/python3.7/site-packages/psutil-5.8.0-py3.7-linux-x86_64.egg', '/home/docker/env/neurosci/lib/python3.7/site-packages/nibabel-3.2.1-py3.7.egg', '/home/docker/env/neurosci/lib/python3.7/site-packages/h5py-2.10.0-py3.7-linux-x86_64.egg', '/home/docker/env/neurosci/lib/python3.7/site-packages/gevent-21.1.2-py3.7-linux-x86_64.egg', '/home/docker/env/neurosci/lib/python3.7/site-packages/FormEncode-2.0.0-py3.7.egg', '/home/docker/env/neurosci/lib/python3.7/site-packages/flask_restplus-0.13.0-py3.7.egg', '/home/docker/packages/tvb-root/tvb_contrib', '/home/docker/packages/tvb-multiscale', '/home/docker/env/neurosci/lib/python3.7/site-packages/pyspike-0.6.0-py3.7-linux-x86_64.egg', '/usr/lib/python3/dist-packages', '/home/docker/.local/lib/python3.7/site-packages', '/home/docker/.local/lib/python3.7/site-packages/ANNarchy-4.6.10.1-py3.7-linux-x86_64.egg', '/usr/local/lib/python3.7/dist-packages']\n"
     ]
    },
    {
     "name": "stdout",
     "output_type": "stream",
     "text": [
      "\u001b[2m\u001b[36m(pid=496)\u001b[0m \n",
      "\u001b[2m\u001b[36m(pid=496)\u001b[0m               -- N E S T --\n",
      "\u001b[2m\u001b[36m(pid=496)\u001b[0m   Copyright (C) 2004 The NEST Initiative\n",
      "\u001b[2m\u001b[36m(pid=496)\u001b[0m \n",
      "\u001b[2m\u001b[36m(pid=496)\u001b[0m  Version: HEAD@1e0ce51e1\n",
      "\u001b[2m\u001b[36m(pid=496)\u001b[0m  Built: Jun  7 2021 13:35:35\n",
      "\u001b[2m\u001b[36m(pid=496)\u001b[0m \n",
      "\u001b[2m\u001b[36m(pid=496)\u001b[0m  This program is provided AS IS and comes with\n",
      "\u001b[2m\u001b[36m(pid=496)\u001b[0m  NO WARRANTY. See the file LICENSE for details.\n",
      "\u001b[2m\u001b[36m(pid=496)\u001b[0m \n",
      "\u001b[2m\u001b[36m(pid=496)\u001b[0m  Problems or suggestions?\n",
      "\u001b[2m\u001b[36m(pid=496)\u001b[0m    Visit https://www.nest-simulator.org\n",
      "\u001b[2m\u001b[36m(pid=496)\u001b[0m \n",
      "\u001b[2m\u001b[36m(pid=496)\u001b[0m  Type 'nest.help()' to find out more about NEST.\n",
      "\u001b[2m\u001b[36m(pid=496)\u001b[0m \n",
      "\u001b[2m\u001b[36m(pid=496)\u001b[0m \n",
      "\u001b[2m\u001b[36m(pid=496)\u001b[0m               -- N E S T --\n",
      "\u001b[2m\u001b[36m(pid=496)\u001b[0m   Copyright (C) 2004 The NEST Initiative\n",
      "\u001b[2m\u001b[36m(pid=496)\u001b[0m \n",
      "\u001b[2m\u001b[36m(pid=496)\u001b[0m  Version: HEAD@1e0ce51e1\n",
      "\u001b[2m\u001b[36m(pid=496)\u001b[0m  Built: Jun  7 2021 13:35:35\n",
      "\u001b[2m\u001b[36m(pid=496)\u001b[0m \n",
      "\u001b[2m\u001b[36m(pid=496)\u001b[0m  This program is provided AS IS and comes with\n",
      "\u001b[2m\u001b[36m(pid=496)\u001b[0m  NO WARRANTY. See the file LICENSE for details.\n",
      "\u001b[2m\u001b[36m(pid=496)\u001b[0m \n",
      "\u001b[2m\u001b[36m(pid=496)\u001b[0m  Problems or suggestions?\n",
      "\u001b[2m\u001b[36m(pid=496)\u001b[0m    Visit https://www.nest-simulator.org\n",
      "\u001b[2m\u001b[36m(pid=496)\u001b[0m \n",
      "\u001b[2m\u001b[36m(pid=496)\u001b[0m  Type 'nest.help()' to find out more about NEST.\n",
      "\u001b[2m\u001b[36m(pid=496)\u001b[0m \n"
     ]
    }
   ],
   "source": [
    "ray.get_actor(\"nest_server\")"
   ]
  },
  {
   "cell_type": "code",
   "execution_count": null,
   "id": "8b799b87",
   "metadata": {},
   "outputs": [],
   "source": [
    "requests.get(\"http://127.0.0.1:8000/Counter\").json()"
   ]
  }
 ],
 "metadata": {
  "kernelspec": {
   "display_name": "Python 3 (ipykernel)",
   "language": "python",
   "name": "python3"
  },
  "language_info": {
   "codemirror_mode": {
    "name": "ipython",
    "version": 3
   },
   "file_extension": ".py",
   "mimetype": "text/x-python",
   "name": "python",
   "nbconvert_exporter": "python",
   "pygments_lexer": "ipython3",
   "version": "3.7.3"
  }
 },
 "nbformat": 4,
 "nbformat_minor": 5
}
