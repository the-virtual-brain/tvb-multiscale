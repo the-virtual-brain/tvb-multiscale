{
 "cells": [
  {
   "cell_type": "code",
   "execution_count": 30,
   "id": "3b9e1c3b",
   "metadata": {},
   "outputs": [],
   "source": [
    "import ray"
   ]
  },
  {
   "cell_type": "code",
   "execution_count": 31,
   "id": "390fd520",
   "metadata": {},
   "outputs": [],
   "source": [
    "@ray.remote\n",
    "class Counter(object):\n",
    "    \n",
    "    def __init__(self, value=0):\n",
    "        self.value = value\n",
    "\n",
    "    def increment(self):\n",
    "        self.value += 1\n",
    "        return self.value\n",
    "\n",
    "    def get_counter(self):\n",
    "        return self.value\n",
    "    \n",
    "    def set_counter(self, value):\n",
    "        self.value = value\n",
    "        return self.value\n",
    "    \n",
    "    \n",
    "class Interface(object):\n",
    "    \n",
    "    def __init__(self, counter):\n",
    "        self.counter = counter\n",
    "\n",
    "    @ray.remote\n",
    "    def increment(self):\n",
    "        return ray.get(self.counter.increment.remote())\n",
    "    \n",
    "    @ray.remote\n",
    "    def get_counter(self):\n",
    "        return self.counter.get_counter.remote()\n",
    "    \n",
    "    @ray.remote\n",
    "    def set_counter(self, value):\n",
    "        return ray.get(self.counter.set_counter.remote(value))\n",
    "    \n",
    "    \n",
    "class Manager(object):\n",
    "    \n",
    "    def __init__(self, interface):\n",
    "        self.interface = interface\n",
    "    \n",
    "    def increment(self):\n",
    "        return self.interface.increment.remote(self.interface)\n",
    "    \n",
    "    def get_counter(self):\n",
    "        return self.interface.get_counter.remote(self.interface)\n",
    "    \n",
    "    def set_counter(self, value):\n",
    "        return self.interface.set_counter.remote(self.interface, value) \n",
    "    \n",
    "    "
   ]
  },
  {
   "cell_type": "code",
   "execution_count": 32,
   "id": "8eabd04e",
   "metadata": {},
   "outputs": [
    {
     "ename": "RuntimeError",
     "evalue": "Maybe you called ray.init twice by accident? This error can be suppressed by passing in 'ignore_reinit_error=True' or by calling 'ray.shutdown()' prior to 'ray.init()'.",
     "output_type": "error",
     "traceback": [
      "\u001b[0;31m---------------------------------------------------------------------------\u001b[0m",
      "\u001b[0;31mRuntimeError\u001b[0m                              Traceback (most recent call last)",
      "\u001b[0;32m/tmp/ipykernel_3579/4201572001.py\u001b[0m in \u001b[0;36m<module>\u001b[0;34m\u001b[0m\n\u001b[0;32m----> 1\u001b[0;31m \u001b[0mray\u001b[0m\u001b[0;34m.\u001b[0m\u001b[0minit\u001b[0m\u001b[0;34m(\u001b[0m\u001b[0;34m)\u001b[0m\u001b[0;34m\u001b[0m\u001b[0;34m\u001b[0m\u001b[0m\n\u001b[0m",
      "\u001b[0;32m~/env/neurosci/lib/python3.7/site-packages/ray/_private/client_mode_hook.py\u001b[0m in \u001b[0;36mwrapper\u001b[0;34m(*args, **kwargs)\u001b[0m\n\u001b[1;32m     80\u001b[0m         \u001b[0;32mif\u001b[0m \u001b[0mclient_mode_should_convert\u001b[0m\u001b[0;34m(\u001b[0m\u001b[0;34m)\u001b[0m\u001b[0;34m:\u001b[0m\u001b[0;34m\u001b[0m\u001b[0;34m\u001b[0m\u001b[0m\n\u001b[1;32m     81\u001b[0m             \u001b[0;32mreturn\u001b[0m \u001b[0mgetattr\u001b[0m\u001b[0;34m(\u001b[0m\u001b[0mray\u001b[0m\u001b[0;34m,\u001b[0m \u001b[0mfunc\u001b[0m\u001b[0;34m.\u001b[0m\u001b[0m__name__\u001b[0m\u001b[0;34m)\u001b[0m\u001b[0;34m(\u001b[0m\u001b[0;34m*\u001b[0m\u001b[0margs\u001b[0m\u001b[0;34m,\u001b[0m \u001b[0;34m**\u001b[0m\u001b[0mkwargs\u001b[0m\u001b[0;34m)\u001b[0m\u001b[0;34m\u001b[0m\u001b[0;34m\u001b[0m\u001b[0m\n\u001b[0;32m---> 82\u001b[0;31m         \u001b[0;32mreturn\u001b[0m \u001b[0mfunc\u001b[0m\u001b[0;34m(\u001b[0m\u001b[0;34m*\u001b[0m\u001b[0margs\u001b[0m\u001b[0;34m,\u001b[0m \u001b[0;34m**\u001b[0m\u001b[0mkwargs\u001b[0m\u001b[0;34m)\u001b[0m\u001b[0;34m\u001b[0m\u001b[0;34m\u001b[0m\u001b[0m\n\u001b[0m\u001b[1;32m     83\u001b[0m \u001b[0;34m\u001b[0m\u001b[0m\n\u001b[1;32m     84\u001b[0m     \u001b[0;32mreturn\u001b[0m \u001b[0mwrapper\u001b[0m\u001b[0;34m\u001b[0m\u001b[0;34m\u001b[0m\u001b[0m\n",
      "\u001b[0;32m~/env/neurosci/lib/python3.7/site-packages/ray/worker.py\u001b[0m in \u001b[0;36minit\u001b[0;34m(address, num_cpus, num_gpus, resources, object_store_memory, local_mode, ignore_reinit_error, include_dashboard, dashboard_host, dashboard_port, job_config, configure_logging, logging_level, logging_format, log_to_driver, namespace, runtime_env, internal_config, _enable_object_reconstruction, _redis_max_memory, _plasma_directory, _node_ip_address, _driver_object_store_memory, _memory, _redis_password, _temp_dir, _lru_evict, _metrics_export_port, _system_config, _tracing_startup_hook, **kwargs)\u001b[0m\n\u001b[1;32m    812\u001b[0m             \u001b[0;32mreturn\u001b[0m\u001b[0;34m\u001b[0m\u001b[0;34m\u001b[0m\u001b[0m\n\u001b[1;32m    813\u001b[0m         \u001b[0;32melse\u001b[0m\u001b[0;34m:\u001b[0m\u001b[0;34m\u001b[0m\u001b[0;34m\u001b[0m\u001b[0m\n\u001b[0;32m--> 814\u001b[0;31m             raise RuntimeError(\"Maybe you called ray.init twice by accident? \"\n\u001b[0m\u001b[1;32m    815\u001b[0m                                \u001b[0;34m\"This error can be suppressed by passing in \"\u001b[0m\u001b[0;34m\u001b[0m\u001b[0;34m\u001b[0m\u001b[0m\n\u001b[1;32m    816\u001b[0m                                \u001b[0;34m\"'ignore_reinit_error=True' or by calling \"\u001b[0m\u001b[0;34m\u001b[0m\u001b[0;34m\u001b[0m\u001b[0m\n",
      "\u001b[0;31mRuntimeError\u001b[0m: Maybe you called ray.init twice by accident? This error can be suppressed by passing in 'ignore_reinit_error=True' or by calling 'ray.shutdown()' prior to 'ray.init()'."
     ]
    }
   ],
   "source": [
    "ray.init()"
   ]
  },
  {
   "cell_type": "code",
   "execution_count": 33,
   "id": "be7af72c",
   "metadata": {},
   "outputs": [],
   "source": [
    "counter = Counter.remote()"
   ]
  },
  {
   "cell_type": "code",
   "execution_count": 6,
   "id": "898deec7",
   "metadata": {},
   "outputs": [],
   "source": [
    "interface = Interface(counter)"
   ]
  },
  {
   "cell_type": "code",
   "execution_count": 7,
   "id": "9aebded0",
   "metadata": {},
   "outputs": [],
   "source": [
    "manager = Manager(interface)"
   ]
  },
  {
   "cell_type": "code",
   "execution_count": 28,
   "id": "a2070704",
   "metadata": {},
   "outputs": [],
   "source": [
    "mgc = manager.get_counter()"
   ]
  },
  {
   "cell_type": "code",
   "execution_count": 29,
   "id": "cf611d8f",
   "metadata": {},
   "outputs": [
    {
     "data": {
      "text/plain": [
       "3"
      ]
     },
     "execution_count": 29,
     "metadata": {},
     "output_type": "execute_result"
    }
   ],
   "source": [
    "ray.get(ray.get(mgc))"
   ]
  },
  {
   "cell_type": "code",
   "execution_count": 26,
   "id": "703b899c",
   "metadata": {},
   "outputs": [],
   "source": [
    "mgi = manager.increment()"
   ]
  },
  {
   "cell_type": "code",
   "execution_count": 27,
   "id": "97128bf9",
   "metadata": {},
   "outputs": [
    {
     "data": {
      "text/plain": [
       "3"
      ]
     },
     "execution_count": 27,
     "metadata": {},
     "output_type": "execute_result"
    }
   ],
   "source": [
    "ray.get(mgi)"
   ]
  },
  {
   "cell_type": "code",
   "execution_count": 22,
   "id": "cc6e962f",
   "metadata": {},
   "outputs": [],
   "source": [
    "mgs = manager.set_counter(2)"
   ]
  },
  {
   "cell_type": "code",
   "execution_count": 23,
   "id": "a775d4b4",
   "metadata": {},
   "outputs": [
    {
     "data": {
      "text/plain": [
       "2"
      ]
     },
     "execution_count": 23,
     "metadata": {},
     "output_type": "execute_result"
    }
   ],
   "source": [
    "ray.get(mgs)"
   ]
  },
  {
   "cell_type": "code",
   "execution_count": null,
   "id": "78b0a3bb",
   "metadata": {},
   "outputs": [],
   "source": [
    "val_ref = ray.put(1.0)"
   ]
  },
  {
   "cell_type": "code",
   "execution_count": null,
   "id": "cd9f51a5",
   "metadata": {},
   "outputs": [],
   "source": [
    "value = ray.get(val_ref)"
   ]
  },
  {
   "cell_type": "code",
   "execution_count": null,
   "id": "a2e89698",
   "metadata": {},
   "outputs": [],
   "source": [
    "value += 1.0"
   ]
  },
  {
   "cell_type": "code",
   "execution_count": null,
   "id": "9dd06ad3",
   "metadata": {},
   "outputs": [],
   "source": [
    "value"
   ]
  },
  {
   "cell_type": "code",
   "execution_count": null,
   "id": "b82f2257",
   "metadata": {},
   "outputs": [],
   "source": [
    "val_ref = ray.put(value)"
   ]
  },
  {
   "cell_type": "code",
   "execution_count": null,
   "id": "6467bf1a",
   "metadata": {},
   "outputs": [],
   "source": [
    "ray.get(val_ref)"
   ]
  },
  {
   "cell_type": "code",
   "execution_count": null,
   "id": "e6dd9cfa",
   "metadata": {},
   "outputs": [],
   "source": [
    "@ray.remote\n",
    "def fun(ref):\n",
    "    print(ref)\n",
    "    value = ray.get(ref) + 1\n",
    "    print(value)\n",
    "    return ray.put(value)"
   ]
  },
  {
   "cell_type": "code",
   "execution_count": null,
   "id": "298f47d0",
   "metadata": {},
   "outputs": [],
   "source": [
    "val_ref = ray.get(fun.remote(val_ref))"
   ]
  },
  {
   "cell_type": "code",
   "execution_count": null,
   "id": "ce9300e5",
   "metadata": {},
   "outputs": [],
   "source": [
    "val_ref"
   ]
  },
  {
   "cell_type": "code",
   "execution_count": 35,
   "id": "fddae33f",
   "metadata": {},
   "outputs": [
    {
     "data": {
      "text/plain": [
       "ray.actor.ActorHandle"
      ]
     },
     "execution_count": 35,
     "metadata": {},
     "output_type": "execute_result"
    }
   ],
   "source": [
    "type(counter)"
   ]
  },
  {
   "cell_type": "code",
   "execution_count": 36,
   "id": "c51901e1",
   "metadata": {},
   "outputs": [
    {
     "data": {
      "text/plain": [
       "True"
      ]
     },
     "execution_count": 36,
     "metadata": {},
     "output_type": "execute_result"
    }
   ],
   "source": [
    "isinstance(counter, ray.actor.ActorHandle)"
   ]
  },
  {
   "cell_type": "code",
   "execution_count": null,
   "id": "66784b19",
   "metadata": {},
   "outputs": [],
   "source": []
  }
 ],
 "metadata": {
  "kernelspec": {
   "display_name": "Python 3 (ipykernel)",
   "language": "python",
   "name": "python3"
  },
  "language_info": {
   "codemirror_mode": {
    "name": "ipython",
    "version": 3
   },
   "file_extension": ".py",
   "mimetype": "text/x-python",
   "name": "python",
   "nbconvert_exporter": "python",
   "pygments_lexer": "ipython3",
   "version": "3.7.3"
  }
 },
 "nbformat": 4,
 "nbformat_minor": 5
}
