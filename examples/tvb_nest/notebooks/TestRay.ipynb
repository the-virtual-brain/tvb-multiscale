{
 "cells": [
  {
   "cell_type": "code",
   "execution_count": 1,
   "id": "7d734311",
   "metadata": {},
   "outputs": [
    {
     "name": "stderr",
     "output_type": "stream",
     "text": [
      "2023-09-25 16:46:52,672\tINFO worker.py:1642 -- Started a local Ray instance.\n"
     ]
    },
    {
     "data": {
      "application/vnd.jupyter.widget-view+json": {
       "model_id": "ecdda2752f5942219aeb0e90050a5a0c",
       "version_major": 2,
       "version_minor": 0
      },
      "text/html": [
       "<div class=\"lm-Widget p-Widget lm-Panel p-Panel jp-Cell-outputWrapper\">\n",
       "    <div style=\"margin-left: 50px;display: flex;flex-direction: row;align-items: center\">\n",
       "        <div class=\"jp-RenderedHTMLCommon\" style=\"display: flex; flex-direction: row;\">\n",
       "  <svg viewBox=\"0 0 567 224\" fill=\"none\" xmlns=\"http://www.w3.org/2000/svg\" style=\"height: 3em;\">\n",
       "    <g clip-path=\"url(#clip0_4338_178347)\">\n",
       "        <path d=\"M341.29 165.561H355.29L330.13 129.051C345.63 123.991 354.21 112.051 354.21 94.2307C354.21 71.3707 338.72 58.1807 311.88 58.1807H271V165.561H283.27V131.661H311.8C314.25 131.661 316.71 131.501 319.01 131.351L341.25 165.561H341.29ZM283.29 119.851V70.0007H311.82C331.3 70.0007 342.34 78.2907 342.34 94.5507C342.34 111.271 331.34 119.861 311.82 119.861L283.29 119.851ZM451.4 138.411L463.4 165.561H476.74L428.74 58.1807H416L367.83 165.561H380.83L392.83 138.411H451.4ZM446.19 126.601H398L422 72.1407L446.24 126.601H446.19ZM526.11 128.741L566.91 58.1807H554.35L519.99 114.181L485.17 58.1807H472.44L514.01 129.181V165.541H526.13V128.741H526.11Z\" fill=\"var(--jp-ui-font-color0)\"/>\n",
       "        <path d=\"M82.35 104.44C84.0187 97.8827 87.8248 92.0678 93.1671 87.9146C98.5094 83.7614 105.083 81.5067 111.85 81.5067C118.617 81.5067 125.191 83.7614 130.533 87.9146C135.875 92.0678 139.681 97.8827 141.35 104.44H163.75C164.476 101.562 165.622 98.8057 167.15 96.2605L127.45 56.5605C121.071 60.3522 113.526 61.6823 106.235 60.3005C98.9443 58.9187 92.4094 54.9203 87.8602 49.0574C83.3109 43.1946 81.0609 35.8714 81.5332 28.4656C82.0056 21.0599 85.1679 14.0819 90.4252 8.8446C95.6824 3.60726 102.672 0.471508 110.08 0.0272655C117.487 -0.416977 124.802 1.86091 130.647 6.4324C136.493 11.0039 140.467 17.5539 141.821 24.8501C143.175 32.1463 141.816 39.6859 138 46.0505L177.69 85.7505C182.31 82.9877 187.58 81.4995 192.962 81.4375C198.345 81.3755 203.648 82.742 208.33 85.3976C213.012 88.0532 216.907 91.9029 219.616 96.5544C222.326 101.206 223.753 106.492 223.753 111.875C223.753 117.258 222.326 122.545 219.616 127.197C216.907 131.848 213.012 135.698 208.33 138.353C203.648 141.009 198.345 142.375 192.962 142.313C187.58 142.251 182.31 140.763 177.69 138L138 177.7C141.808 184.071 143.155 191.614 141.79 198.91C140.424 206.205 136.44 212.75 130.585 217.313C124.731 221.875 117.412 224.141 110.004 223.683C102.596 223.226 95.6103 220.077 90.3621 214.828C85.1139 209.58 81.9647 202.595 81.5072 195.187C81.0497 187.779 83.3154 180.459 87.878 174.605C92.4405 168.751 98.9853 164.766 106.281 163.401C113.576 162.035 121.119 163.383 127.49 167.19L167.19 127.49C165.664 124.941 164.518 122.182 163.79 119.3H141.39C139.721 125.858 135.915 131.673 130.573 135.826C125.231 139.98 118.657 142.234 111.89 142.234C105.123 142.234 98.5494 139.98 93.2071 135.826C87.8648 131.673 84.0587 125.858 82.39 119.3H60C58.1878 126.495 53.8086 132.78 47.6863 136.971C41.5641 141.163 34.1211 142.972 26.7579 142.059C19.3947 141.146 12.6191 137.574 7.70605 132.014C2.79302 126.454 0.0813599 119.29 0.0813599 111.87C0.0813599 104.451 2.79302 97.2871 7.70605 91.7272C12.6191 86.1673 19.3947 82.5947 26.7579 81.6817C34.1211 80.7686 41.5641 82.5781 47.6863 86.7696C53.8086 90.9611 58.1878 97.2456 60 104.44H82.35ZM100.86 204.32C103.407 206.868 106.759 208.453 110.345 208.806C113.93 209.159 117.527 208.258 120.522 206.256C123.517 204.254 125.725 201.276 126.771 197.828C127.816 194.38 127.633 190.677 126.253 187.349C124.874 184.021 122.383 181.274 119.205 179.577C116.027 177.88 112.359 177.337 108.826 178.042C105.293 178.746 102.113 180.654 99.8291 183.44C97.5451 186.226 96.2979 189.718 96.3 193.32C96.2985 195.364 96.7006 197.388 97.4831 199.275C98.2656 201.163 99.4132 202.877 100.86 204.32ZM204.32 122.88C206.868 120.333 208.453 116.981 208.806 113.396C209.159 109.811 208.258 106.214 206.256 103.219C204.254 100.223 201.275 98.0151 197.827 96.97C194.38 95.9249 190.676 96.1077 187.348 97.4873C184.02 98.8669 181.274 101.358 179.577 104.536C177.879 107.714 177.337 111.382 178.041 114.915C178.746 118.448 180.653 121.627 183.439 123.911C186.226 126.195 189.717 127.443 193.32 127.44C195.364 127.443 197.388 127.042 199.275 126.259C201.163 125.476 202.878 124.328 204.32 122.88ZM122.88 19.4205C120.333 16.8729 116.981 15.2876 113.395 14.9347C109.81 14.5817 106.213 15.483 103.218 17.4849C100.223 19.4868 98.0146 22.4654 96.9696 25.9131C95.9245 29.3608 96.1073 33.0642 97.4869 36.3922C98.8665 39.7202 101.358 42.4668 104.535 44.1639C107.713 45.861 111.381 46.4036 114.914 45.6992C118.447 44.9949 121.627 43.0871 123.911 40.301C126.195 37.515 127.442 34.0231 127.44 30.4205C127.44 28.3772 127.038 26.3539 126.255 24.4664C125.473 22.5788 124.326 20.8642 122.88 19.4205ZM19.42 100.86C16.8725 103.408 15.2872 106.76 14.9342 110.345C14.5813 113.93 15.4826 117.527 17.4844 120.522C19.4863 123.518 22.4649 125.726 25.9127 126.771C29.3604 127.816 33.0638 127.633 36.3918 126.254C39.7198 124.874 42.4664 122.383 44.1635 119.205C45.8606 116.027 46.4032 112.359 45.6988 108.826C44.9944 105.293 43.0866 102.114 40.3006 99.8296C37.5145 97.5455 34.0227 96.2983 30.42 96.3005C26.2938 96.3018 22.337 97.9421 19.42 100.86ZM100.86 100.86C98.3125 103.408 96.7272 106.76 96.3742 110.345C96.0213 113.93 96.9226 117.527 98.9244 120.522C100.926 123.518 103.905 125.726 107.353 126.771C110.8 127.816 114.504 127.633 117.832 126.254C121.16 124.874 123.906 122.383 125.604 119.205C127.301 116.027 127.843 112.359 127.139 108.826C126.434 105.293 124.527 102.114 121.741 99.8296C118.955 97.5455 115.463 96.2983 111.86 96.3005C109.817 96.299 107.793 96.701 105.905 97.4835C104.018 98.2661 102.303 99.4136 100.86 100.86Z\" fill=\"#00AEEF\"/>\n",
       "    </g>\n",
       "    <defs>\n",
       "        <clipPath id=\"clip0_4338_178347\">\n",
       "            <rect width=\"566.93\" height=\"223.75\" fill=\"white\"/>\n",
       "        </clipPath>\n",
       "    </defs>\n",
       "  </svg>\n",
       "</div>\n",
       "\n",
       "        <table class=\"jp-RenderedHTMLCommon\" style=\"border-collapse: collapse;color: var(--jp-ui-font-color1);font-size: var(--jp-ui-font-size1);\">\n",
       "    <tr>\n",
       "        <td style=\"text-align: left\"><b>Python version:</b></td>\n",
       "        <td style=\"text-align: left\"><b>3.10.12</b></td>\n",
       "    </tr>\n",
       "    <tr>\n",
       "        <td style=\"text-align: left\"><b>Ray version:</b></td>\n",
       "        <td style=\"text-align: left\"><b>2.7.0</b></td>\n",
       "    </tr>\n",
       "    \n",
       "</table>\n",
       "\n",
       "    </div>\n",
       "</div>\n"
      ],
      "text/plain": [
       "RayContext(dashboard_url='', python_version='3.10.12', ray_version='2.7.0', ray_commit='b4bba4717f5ba04ee25580fe8f88eed63ef0c5dc', protocol_version=None)"
      ]
     },
     "execution_count": 1,
     "metadata": {},
     "output_type": "execute_result"
    }
   ],
   "source": [
    "import ray\n",
    "\n",
    "ray.init()"
   ]
  },
  {
   "cell_type": "code",
   "execution_count": null,
   "id": "9319c7e0",
   "metadata": {},
   "outputs": [],
   "source": [
    "import time\n",
    "\n",
    "\n",
    "# A regular Python function.\n",
    "def normal_function():\n",
    "    return 1\n",
    "\n",
    "\n",
    "# By adding the `@ray.remote` decorator, a regular Python function\n",
    "# becomes a Ray remote function.\n",
    "@ray.remote\n",
    "def my_function():\n",
    "    return 1\n",
    "\n",
    "\n",
    "# To invoke this remote function, use the `remote` method.\n",
    "# This will immediately return an object ref (a future) and then create\n",
    "# a task that will be executed on a worker process.\n",
    "obj_ref = my_function.remote()\n",
    "\n",
    "# The result can be retrieved with ``ray.get``.\n",
    "assert ray.get(obj_ref) == 1\n",
    "\n",
    "\n",
    "@ray.remote\n",
    "def slow_function(ii):\n",
    "    time.sleep(1)\n",
    "    print(ii)\n",
    "    return ii\n",
    "\n",
    "\n",
    "# Ray tasks are executed in parallel.\n",
    "# All computation is performed in the background, driven by Ray's internal event loop.\n",
    "# for ii in range(4):\n",
    "#     # This doesn't block.\n",
    "#     slow_function.remote(ii)\n",
    "    \n",
    "object_refs = [slow_function.remote(ii) for ii in range(1, 4)]\n",
    "# Return as soon as one of the tasks finished execution.\n",
    "ready_refs, remaining_refs = ray.wait(object_refs, num_returns=1, timeout=None)"
   ]
  },
  {
   "cell_type": "code",
   "execution_count": null,
   "id": "4001cf7d",
   "metadata": {},
   "outputs": [],
   "source": [
    "ready_refs"
   ]
  },
  {
   "cell_type": "code",
   "execution_count": null,
   "id": "06b2903d",
   "metadata": {},
   "outputs": [],
   "source": [
    "remaining_refs"
   ]
  },
  {
   "cell_type": "code",
   "execution_count": null,
   "id": "66484e5f",
   "metadata": {},
   "outputs": [],
   "source": [
    "ready_refs, remaining_refs = ray.wait(object_refs, timeout=None)"
   ]
  },
  {
   "cell_type": "code",
   "execution_count": null,
   "id": "a309b05d",
   "metadata": {},
   "outputs": [],
   "source": [
    "ray.get(ready_refs)"
   ]
  },
  {
   "cell_type": "code",
   "execution_count": null,
   "id": "7e44092a",
   "metadata": {},
   "outputs": [],
   "source": [
    "ray.get(remaining_refs)"
   ]
  },
  {
   "cell_type": "code",
   "execution_count": 2,
   "id": "5bff05b9",
   "metadata": {},
   "outputs": [],
   "source": [
    "# #@ray.remote\n",
    "# class Counter(object):\n",
    "        \n",
    "#     def __init__(self, adder=None):\n",
    "#         self.value = 0\n",
    "        \n",
    "#     def increment(self):\n",
    "#         self.value += self.adder()\n",
    "#         return self.value\n",
    "\n",
    "#     def get_counter(self):\n",
    "#         return self.value\n",
    "    \n",
    "\n",
    "\n",
    "# # Create an actor from this class.\n",
    "# counter = Counter.remote()\n",
    "\n",
    "\n",
    "class Adder(object):\n",
    "    \n",
    "    value = 1\n",
    "    \n",
    "    def __init__(self):\n",
    "        self.value = 1\n",
    "        \n",
    "    def __call__(self):\n",
    "        return self.value\n",
    "    \n",
    "#     def __getattribute__(self, attr):\n",
    "#         return super(Adder, self).__getattribute__(attr)\n",
    "    \n",
    "#     def __setattr__(self, attr, val):\n",
    "#         return super(Adder, self).__setattr__(attr,val)\n",
    "    \n",
    "    \n",
    "class Counter(object):\n",
    "    \n",
    "    value = 0\n",
    "    \n",
    "    def __init__(self, adder=None):\n",
    "        if adder is None:\n",
    "            self.adder = lambda: 1\n",
    "        else:\n",
    "            self.adder = adder\n",
    "        self.value = 0\n",
    "\n",
    "#     def __getattribute__(self, attr):\n",
    "#         return super(Counter, self).__getattribute__(attr)\n",
    "    \n",
    "#     def __setattr__(self, attr, val):\n",
    "#         return super(Counter, self).__setattr__(attr,val)\n",
    "        \n",
    "    def increment(self):\n",
    "        self.value += self.adder()\n",
    "        return self.value\n",
    "\n",
    "    def get_counter(self):\n",
    "        return self.value\n",
    "    \n"
   ]
  },
  {
   "cell_type": "code",
   "execution_count": null,
   "id": "055177ca",
   "metadata": {},
   "outputs": [],
   "source": [
    "# # Call the actor.\n",
    "# obj_ref = counter.increment.remote()\n",
    "# print(ray.get(obj_ref))"
   ]
  },
  {
   "cell_type": "code",
   "execution_count": null,
   "id": "3d9265f5",
   "metadata": {},
   "outputs": [],
   "source": [
    "# # Create ten Counter actors.\n",
    "# counters = [Counter.remote() for _ in range(10)]\n",
    "\n",
    "# # Increment each Counter once and get the results. These tasks all happen in\n",
    "# # parallel.\n",
    "# results = ray.get([c.increment.remote() for c in counters])\n",
    "# print(results)\n",
    "\n",
    "# # Increment the first Counter five times. These tasks are executed serially\n",
    "# # and share state.\n",
    "# results = ray.get([counters[0].increment.remote() for _ in range(5)])\n",
    "# print(results)"
   ]
  },
  {
   "cell_type": "code",
   "execution_count": 3,
   "id": "043a4142",
   "metadata": {},
   "outputs": [],
   "source": [
    "from tvb_multiscale.core.ray.client import create_ray_client, RayClient\n"
   ]
  },
  {
   "cell_type": "code",
   "execution_count": 4,
   "id": "26a272a3",
   "metadata": {},
   "outputs": [],
   "source": [
    "adder = create_ray_client(Adder, \n",
    "                          ray_client_type=RayClient, \n",
    "                          non_blocking_methods=[])\n"
   ]
  },
  {
   "cell_type": "code",
   "execution_count": 5,
   "id": "c3109049",
   "metadata": {},
   "outputs": [
    {
     "data": {
      "text/plain": [
       "1"
      ]
     },
     "execution_count": 5,
     "metadata": {},
     "output_type": "execute_result"
    }
   ],
   "source": [
    "adder.value"
   ]
  },
  {
   "cell_type": "code",
   "execution_count": 6,
   "id": "a2b2518e",
   "metadata": {},
   "outputs": [
    {
     "data": {
      "text/plain": [
       "{'__call__': [<Parameter \"_ray_trace_ctx=None\">],\n",
       " '__getattribute__': [<Parameter \"attr\">, <Parameter \"_ray_trace_ctx=None\">],\n",
       " '__getstate__': [<Parameter \"_ray_trace_ctx=None\">],\n",
       " '__init__': [<Parameter \"_ray_trace_ctx=None\">],\n",
       " '__ray_ready__': [<Parameter \"_ray_trace_ctx=None\">],\n",
       " '__ray_terminate__': [<Parameter \"_ray_trace_ctx=None\">],\n",
       " '__setattr__': [<Parameter \"attr\">,\n",
       "  <Parameter \"val\">,\n",
       "  <Parameter \"_ray_trace_ctx=None\">],\n",
       " '__setstate__': [<Parameter \"d\">, <Parameter \"_ray_trace_ctx=None\">]}"
      ]
     },
     "execution_count": 6,
     "metadata": {},
     "output_type": "execute_result"
    }
   ],
   "source": [
    "adder.ray_server._ray_method_signatures"
   ]
  },
  {
   "cell_type": "code",
   "execution_count": 7,
   "id": "ad1f483c",
   "metadata": {},
   "outputs": [],
   "source": [
    "counter = create_ray_client(Counter, \n",
    "                            ray_client_type=RayClient, \n",
    "                            non_blocking_methods=[\"increment\", \"get_counter\"], adder=adder)"
   ]
  },
  {
   "cell_type": "code",
   "execution_count": 8,
   "id": "cdb3609f",
   "metadata": {},
   "outputs": [
    {
     "data": {
      "text/plain": [
       "ObjectRef(32d950ec0ccf9d2a7354bcd2ee73be6ba1903dd50100000001000000)"
      ]
     },
     "execution_count": 8,
     "metadata": {},
     "output_type": "execute_result"
    }
   ],
   "source": [
    "counter.increment()"
   ]
  },
  {
   "cell_type": "code",
   "execution_count": 9,
   "id": "18344ac9",
   "metadata": {},
   "outputs": [
    {
     "data": {
      "text/plain": [
       "1"
      ]
     },
     "execution_count": 9,
     "metadata": {},
     "output_type": "execute_result"
    }
   ],
   "source": [
    "counter.value"
   ]
  },
  {
   "cell_type": "code",
   "execution_count": 10,
   "id": "4f4d54a5",
   "metadata": {},
   "outputs": [],
   "source": [
    "counter.adder.value = 2"
   ]
  },
  {
   "cell_type": "code",
   "execution_count": 11,
   "id": "87c8d263",
   "metadata": {},
   "outputs": [
    {
     "data": {
      "text/plain": [
       "2"
      ]
     },
     "execution_count": 11,
     "metadata": {},
     "output_type": "execute_result"
    }
   ],
   "source": [
    "counter.adder()"
   ]
  },
  {
   "cell_type": "code",
   "execution_count": 12,
   "id": "b6aa23b8",
   "metadata": {},
   "outputs": [],
   "source": [
    "ray.shutdown()"
   ]
  },
  {
   "cell_type": "code",
   "execution_count": null,
   "id": "1bdf08ff",
   "metadata": {},
   "outputs": [],
   "source": []
  }
 ],
 "metadata": {
  "kernelspec": {
   "display_name": "Python 3 (ipykernel)",
   "language": "python",
   "name": "python3"
  },
  "language_info": {
   "codemirror_mode": {
    "name": "ipython",
    "version": 3
   },
   "file_extension": ".py",
   "mimetype": "text/x-python",
   "name": "python",
   "nbconvert_exporter": "python",
   "pygments_lexer": "ipython3",
   "version": "3.10.12"
  }
 },
 "nbformat": 4,
 "nbformat_minor": 5
}
