{
 "cells": [
  {
   "cell_type": "markdown",
   "metadata": {},
   "source": [
    "# TVB-NEST: Bridging multiscale activity by co-simulation\n",
    "\n",
    "## Step-by-step learn how to perform a co-simulation embedding spiking neural networks into large-scale brain networks using TVB."
   ]
  },
  {
   "cell_type": "markdown",
   "metadata": {},
   "source": [
    "## tvb-multiscale toolbox:\n",
    "\n",
    "### https://github.com/the-virtual-brain/tvb-multiscale\n",
    "\n",
    "For questions use the git issue tracker, or write an e-mail to me: dionysios.perdikis@charite.de"
   ]
  },
  {
   "cell_type": "markdown",
   "metadata": {
    "ExecuteTime": {
     "end_time": "2019-07-11T13:37:40.905578Z",
     "start_time": "2019-07-11T13:37:40.894958Z"
    },
    "slideshow": {
     "slide_type": "slide"
    }
   },
   "source": [
    "# TVB simulation "
   ]
  },
  {
   "cell_type": "markdown",
   "metadata": {},
   "source": [
    "## Thalamocortical Wilson - Cowan like TVB mean field model [4]\n",
    "\n",
    "For every cortical region $n\\prime$, there is a specific thalamic nucleus $m\\prime$ connected to it.\n",
    "Such specific thalamic nuclei connect potentially, besides their cortical pair, to all other subcortical nodes of the connectome $s\\prime$, including the nonspecific thalamus.\n",
    "\n",
    "For every (sub)cortical region node $n\\prime$ ($s\\prime$) modelled as a mean-field node in TVB:\n",
    "\n",
    "- Population activity dynamics of 1 excitatory and 1 inhibitory cortical populations:\n",
    "\n",
    "\\begin{align}\n",
    "\\dot{E}_{n\\prime} = \\dfrac{1}{\\tau_e} (&- E_{n\\prime} + w_{ee} \\mathcal{Sigm}(E_{n\\prime}  ) + w_{ie} \\mathcal{Sigm}(I_{n\\prime}) \\\\\n",
    "                    & + G_{n\\prime}\\sum_{n\\prime _j}\\{{w_{n\\prime n\\prime _j}\\mathcal{Sigm}(E_{n\\prime _j}(t - \\tau_{n\\prime n\\prime _j}))}\\} \\\\\n",
    "                    & + w_{se}\\sum_{m\\prime _j}\\{{w_{n\\prime m\\prime _j}\\mathcal{Sigm}(E_{m\\prime _j}(t - \\tau_{n\\prime m\\prime _j}))}\\} \\\\\n",
    "                    & + I_e + Ie_{n\\prime}(t)) \\\\\n",
    "\\end{align}\n",
    "\n",
    "\\begin{align}\n",
    "\\dot{I}_{n\\prime} = \\dfrac{1}{\\tau_i} (&- I_{n\\prime} + w_{ei} \\mathcal{Sigm}(E_{n\\prime}) + w_{ii} \\mathcal{Sigm}(I_{n\\prime}) \\\\\n",
    "                               & + w_{si} \\sum_{m\\prime _j}\\{{w_{n\\prime m\\prime _j}\\mathcal{Sigm}(E_{m\\prime _j}(t - \\tau_{n\\prime m\\prime _j}))}\\} \\\\\n",
    "                               & + I_i\n",
    "                                )\n",
    "\\end{align}                  \n",
    "\n",
    "For every specific thalamic nucleus node $m\\prime$ modelled as a mean-field node in TVB:\n",
    "\n",
    "- Population activity dynamics of 1 excitatory relay and 1 inhibitory reticular thalamic nuclei:\n",
    "\n",
    "\\begin{align}\n",
    "\\dot{E}_{m\\prime} = \\dfrac{1}{\\tau_s} ( & - E_{m\\prime}  \n",
    "                                + w_{rs} \\mathcal{Sigm}(I_{m\\prime}(t - \\tau_{tt})) \\\\\n",
    "                                 & +  w_{es} \\sum_{n\\prime \\neq s\\prime _j}\\{{w_{m\\prime n\\prime _j}\\mathcal{Sigm} (E_{n\\prime _j}(t - \\tau_{m\\prime n\\prime _j}))}\\} \\\\\n",
    "                                 & +  G_{s\\prime} \\sum_{s\\prime _j}\\{{w_{m\\prime s\\prime _j}\\mathcal{Sigm} (E_{s\\prime _j}(t - \\tau_{m\\prime s\\prime _j}))}\\} \\\\\n",
    "                                & + I_s + Is_{m\\prime}(t) )                   \n",
    "\\end{align}\n",
    "\n",
    "\\begin{align}\n",
    "\\dot{I}_{m\\prime} = \\dfrac{1}{\\tau_r} (& - I_{m\\prime}  \n",
    "                                + w_{sr} \\mathcal{Sigm}(E_{m\\prime}(t - \\tau_{tt})) \\\\\n",
    "                               & + w_{er} \\sum_{n\\prime \\neq s\\prime _j}\\{{w_{m\\prime n\\prime _j}\\mathcal{Sigm} (E_{n\\prime _j}(t - \\tau_{m\\prime n\\prime _j}))}\\} \\\\\n",
    "                               & + I_r )\n",
    "\\end{align}                   \n",
    "\n",
    "                                \n",
    "                               \n",
    "For BOLD, we record the postsynaptic firing rate activity of $E$, as an extra, non-integrated state variable $A$:\n",
    "\n",
    "For (sub)cortical nodes:\n",
    "\n",
    "\\begin{align}\n",
    "{A}_{n\\prime} &= w_{ee} \\mathcal{Sigm}(E_{n\\prime}  ) + w_{ie} \\mathcal{Sigm}(I_{n\\prime}) \\\\\n",
    "              & + G_{n\\prime}*\\sum_{n\\prime _j}\\{{w_{n\\prime n\\prime _j}\\mathcal{Sigm}(E_{n\\prime _j}(t - \\tau_{n\\prime n\\prime _j}))}\\} \\\\\n",
    "                    & + w_{se} \\sum_{m\\prime _j}\\{{w_{n\\prime m\\prime _j}\\mathcal{Sigm}(E_{m\\prime _j}(t - \\tau_{n\\prime m\\prime _j}))}\\}\n",
    "\\end{align}\n",
    "\n",
    "For specific thalamic nuclei nodes:\n",
    "\n",
    "\\begin{align}\n",
    "{A}_{m\\prime} & = w_{rs} \\mathcal{Sigm}(I_{m\\prime}(t - \\tau_{tt})) \\\\\n",
    "              & +  w_{es} \\sum_{n\\prime \\neq s\\prime _j}\\{{w_{m\\prime n\\prime _j}\\mathcal{Sigm} (E_{n\\prime _j}(t - \\tau_{n\\prime n\\prime _j}))}\\} \\\\\n",
    "              & +  G_{s\\prime} \\sum_{s\\prime _j}\\{{w_{m\\prime s\\prime _j}\\mathcal{Sigm} (E_{s\\prime _j}(t - \\tau_{m\\prime s\\prime _j}))}\\}\n",
    "\\end{align}\n",
    "\n",
    "                \n",
    "In all cases, we use the same sigmoidal activation function:\n",
    "\n",
    "$ Sigm(x) = \\frac{1}{1+e^{-\\beta(x - \\sigma)}} $\n",
    "\n",
    "Note that the global coupling $G$ does NOT scale any of the connections that involve the specific thalamic nuclei, including those to/from other subcortical structures, besides the single connections with the specific cortical node, each nucleus couples to.\n"
   ]
  },
  {
   "cell_type": "markdown",
   "metadata": {
    "run_control": {
     "frozen": false,
     "read_only": false
    }
   },
   "source": [
    "# References\n",
    "\n",
    "1 Sanz Leon P, Knock SA , Woodman MM, Domide L, <br>\n",
    "  Mersmann J, McIntosh AR, Jirsa VK. 2013. <br>\n",
    "  The Virtual Brain: a simulator of primate brain network dynamics. <br>\n",
    "  Frontiers in Neuroinformatics (7:10. doi: 10.3389/fninf.2013.00010) <br>\n",
    "  https://www.thevirtualbrain.org/tvb/zwei <br>\n",
    "  https://github.com/the-virtual-brain <br>\n",
    "\n",
    "2 Ritter P, Schirner M, McIntosh AR, Jirsa VK. 2013.  <br>\n",
    "  The Virtual Brain integrates computational modeling and multimodal neuroimaging. <br>\n",
    "  Brain Connectivity 3:121–145. <br>\n",
    "\n",
    "3 Griffiths JD, McIntosh AR, Lefebvre J. 2020.   <br>\n",
    "  A Connectome-Based, Corticothalamic Model of State- <br>\n",
    "  and Stimulation-Dependent Modulation of Rhythmic Neural Activity and Connectivity <br>\n",
    "  Frontiers in Computational Neuroscience (vol. 14. doi: 10.3389/fncom.2020.575143) <br>\n",
    "  https://www.frontiersin.org/articles/10.3389/fncom.2020.575143/full#h12\n",
    "  \n",
    "4 Jordan, Jakob; Mørk, Håkon; Vennemo, Stine Brekke;   Terhorst, Dennis; Peyser, <br>\n",
    "  Alexander; Ippen, Tammo; Deepu, Rajalekshmi;   Eppler, Jochen Martin; <br>\n",
    "  van Meegen, Alexander;   Kunkel, Susanne; Sinha, Ankur; Fardet, Tanguy; Diaz, <br>\n",
    "  Sandra; Morrison, Abigail; Schenck, Wolfram; Dahmen, David;   Pronold, Jari; <br>\n",
    "  Stapmanns, Jonas;   Trensch, Guido; Spreizer, Sebastian;   Mitchell, Jessica; <br>\n",
    "  Graber, Steffen; Senk, Johanna; Linssen, Charl; Hahne, Jan; Serenko, Alexey; <br>\n",
    "  Naoumenko, Daniel; Thomson, Eric;   Kitayama, Itaru; Berns, Sebastian;   <br>\n",
    "  Plesser, Hans Ekkehard <br>\n",
    "  NEST is a simulator for spiking neural network models that focuses <br>\n",
    "  on the dynamics, size and structure of neural systems rather than on <br>\n",
    "  the exact morphology of individual neurons. <br>\n",
    "  For further information, visit http://www.nest-simulator.org. <br>\n",
    "  The release notes for this release are available at  <br>\n",
    "  https://github.com/nest/nest-simulator/releases/tag/v2.18.0 <br>"
   ]
  },
  {
   "cell_type": "code",
   "execution_count": null,
   "metadata": {},
   "outputs": [],
   "source": []
  }
 ],
 "metadata": {
  "kernelspec": {
   "display_name": "Python 3 (ipykernel)",
   "language": "python",
   "name": "python3"
  },
  "language_info": {
   "codemirror_mode": {
    "name": "ipython",
    "version": 3
   },
   "file_extension": ".py",
   "mimetype": "text/x-python",
   "name": "python",
   "nbconvert_exporter": "python",
   "pygments_lexer": "ipython3",
   "version": "3.9.2"
  },
  "latex_envs": {
   "bibliofile": "biblio.bib",
   "cite_by": "apalike",
   "current_citInitial": 1,
   "eqLabelWithNumbers": true,
   "eqNumInitial": 0
  },
  "nav_menu": {},
  "toc": {
   "navigate_menu": true,
   "number_sections": true,
   "sideBar": true,
   "threshold": 6,
   "toc_cell": false,
   "toc_section_display": "block",
   "toc_window_display": false
  }
 },
 "nbformat": 4,
 "nbformat_minor": 2
}
