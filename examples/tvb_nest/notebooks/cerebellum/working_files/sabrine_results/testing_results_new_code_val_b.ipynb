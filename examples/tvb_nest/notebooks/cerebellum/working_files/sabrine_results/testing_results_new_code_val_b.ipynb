{
 "cells": [
  {
   "cell_type": "code",
   "execution_count": null,
   "id": "5bac6ed7",
   "metadata": {},
   "outputs": [],
   "source": [
    "! pwd"
   ]
  },
  {
   "cell_type": "code",
   "execution_count": null,
   "id": "a56bd550",
   "metadata": {
    "scrolled": true
   },
   "outputs": [],
   "source": [
    "import os\n",
    "from examples.tvb_nest.notebooks.cerebellum.scripts.base import configure\n",
    "from examples.tvb_nest.notebooks.cerebellum.scripts.sbi_script import *\n",
    "\n",
    "config = configure()[0]\n",
    "\n"
   ]
  },
  {
   "cell_type": "code",
   "execution_count": null,
   "id": "b8ba22c7",
   "metadata": {
    "scrolled": true
   },
   "outputs": [],
   "source": [
    "print(config.out.FOLDER_RES)\n",
    "respath = str(config.out.FOLDER_RES)"
   ]
  },
  {
   "cell_type": "code",
   "execution_count": null,
   "id": "2feb2dd3",
   "metadata": {},
   "outputs": [],
   "source": [
    "iGs = [2]\n",
    "TRAIN_SAMPLES = config.N_TRAIN_SAMPLES_LIST"
   ]
  },
  {
   "cell_type": "code",
   "execution_count": null,
   "id": "9d8f11e5",
   "metadata": {
    "scrolled": true
   },
   "outputs": [],
   "source": [
    "        \n",
    "# for iG in iGs:\n",
    "#     for nts in TRAIN_SAMPLES:\n",
    "#        label = \"%04d_Train\" % nts\n",
    "#        sbi_estimate_for_iG(iG, label, config)\n"
   ]
  },
  {
   "cell_type": "code",
   "execution_count": null,
   "id": "a48d51ca",
   "metadata": {
    "scrolled": false
   },
   "outputs": [],
   "source": [
    "plot_all_together(config, iGs=iGs, diagnostics=[\"map\", \"mean\", \"shrinkage\"],\n",
    "                  params=None, num_train_samples=TRAIN_SAMPLES, runs=None, confidence=\"5%\",\n",
    "                  colors=['b', \"g\", \"m\"], marker='.', linestyle='-', figsize=(4,4))\n",
    "    "
   ]
  },
  {
   "cell_type": "code",
   "execution_count": null,
   "id": "c8c9d93c",
   "metadata": {},
   "outputs": [],
   "source": [
    "iGs"
   ]
  },
  {
   "cell_type": "code",
   "execution_count": null,
   "id": "f4f08408",
   "metadata": {},
   "outputs": [],
   "source": [
    "config.SIMULATION_LENGTH = 2**10 + 1.0\n",
    "config.OPT_RES_MODE = \"map\""
   ]
  },
  {
   "cell_type": "code",
   "execution_count": null,
   "id": "c62c62ef",
   "metadata": {
    "scrolled": true
   },
   "outputs": [],
   "source": [
    "outputs = simulate_after_fitting(2, iR=0, label=\"5000_Train\", config= config,\n",
    "                                 workflow_fun=None, model_params={}, FIC=None, FIC_SPLIT=None)"
   ]
  },
  {
   "cell_type": "code",
   "execution_count": null,
   "id": "fa1221b7",
   "metadata": {},
   "outputs": [],
   "source": [
    "config.PRIORS_PARAMS_NAMES"
   ]
  },
  {
   "cell_type": "code",
   "execution_count": null,
   "id": "65f3506b",
   "metadata": {},
   "outputs": [],
   "source": [
    "samples_5000 = load_posterior_samples_all_runs(2, runs=None, label=\"5000_Train\", samples=None, config=config)\n",
    "    "
   ]
  },
  {
   "cell_type": "code",
   "execution_count": null,
   "id": "b1a4440c",
   "metadata": {},
   "outputs": [],
   "source": [
    "samples_5000[\"mean_avg\"] = np.concatenate(samples_5000[\"mean\"]).mean(axis=0)\n",
    "print(samples_5000[\"mean_avg\"])"
   ]
  },
  {
   "cell_type": "code",
   "execution_count": null,
   "id": "cf8c0e72",
   "metadata": {},
   "outputs": [],
   "source": [
    "samples_5000[\"map_avg\"] = np.concatenate(samples_5000[\"map\"]).mean(axis=0)\n",
    "print(samples_5000[\"map_avg\"])"
   ]
  },
  {
   "cell_type": "code",
   "execution_count": null,
   "id": "a70c8434",
   "metadata": {},
   "outputs": [],
   "source": [
    "# Posterior Predictive check simulations:\n",
    "config.N_PPT_SIM_BATCHES = 1 # 50\n",
    "config.N_PPT_SIMS_PER_BATCH = 1 # 12\n",
    "config.PPT_BATCH_SIM_RES_FILE = \"ppt_bsr.npy\"  # ppt_bsr_iG01_iB010.npy\n",
    "\n",
    "NUM_TRAIN_SAMPLES = 5000\n",
    "iGs = [2]\n",
    "sim_res = {}\n",
    "for iG in iGs:\n",
    "    sim_res[config.Gs[iG]] = []\n",
    "    for iB in range(config.N_PPT_SIM_BATCHES):\n",
    "        sim_res[config.Gs[iG]].append(\n",
    "            posterior_predictive_check_simulations_for_iG_iB(iB, iG, \n",
    "                                                             num_train_samples=NUM_TRAIN_SAMPLES,  iR=None,\n",
    "                                                             config=config))"
   ]
  },
  {
   "cell_type": "code",
   "execution_count": null,
   "id": "fbede4d7",
   "metadata": {},
   "outputs": [],
   "source": []
  }
 ],
 "metadata": {
  "kernelspec": {
   "display_name": "Python 3 (ipykernel)",
   "language": "python",
   "name": "python3"
  },
  "language_info": {
   "codemirror_mode": {
    "name": "ipython",
    "version": 3
   },
   "file_extension": ".py",
   "mimetype": "text/x-python",
   "name": "python",
   "nbconvert_exporter": "python",
   "pygments_lexer": "ipython3",
   "version": "3.9.2"
  }
 },
 "nbformat": 4,
 "nbformat_minor": 5
}
