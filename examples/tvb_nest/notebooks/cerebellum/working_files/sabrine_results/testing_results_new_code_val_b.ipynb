{
 "cells": [
  {
   "cell_type": "code",
   "execution_count": 1,
   "id": "5bac6ed7",
   "metadata": {},
   "outputs": [
    {
     "name": "stdout",
     "output_type": "stream",
     "text": [
      "/home/docker/packages/tvb-multiscale/examples/tvb_nest/notebooks/cerebellum/working_files/sabrine_results\r\n"
     ]
    }
   ],
   "source": [
    "! pwd"
   ]
  },
  {
   "cell_type": "code",
   "execution_count": 2,
   "id": "a56bd550",
   "metadata": {},
   "outputs": [
    {
     "name": "stdout",
     "output_type": "stream",
     "text": [
      "2023-04-05 15:01:04,809 - INFO - tvb_multiscale.tvb_nest.config - Loading a NEST instance...\n",
      "2023-04-05 15:01:04,809 - INFO - tvb_multiscale.tvb_nest.config - Loading a NEST instance...\n",
      "2023-04-05 15:01:04,840 - INFO - tvb_multiscale.tvb_nest.config - NEST_INSTALL_DIR: /home/docker/env/neurosci/nest_build\n",
      "2023-04-05 15:01:04,840 - INFO - tvb_multiscale.tvb_nest.config - NEST_INSTALL_DIR: /home/docker/env/neurosci/nest_build\n",
      "2023-04-05 15:01:04,847 - INFO - tvb_multiscale.tvb_nest.config - NEST_DATA_DIR: /home/docker/env/neurosci/nest_build/share/nest\n",
      "2023-04-05 15:01:04,847 - INFO - tvb_multiscale.tvb_nest.config - NEST_DATA_DIR: /home/docker/env/neurosci/nest_build/share/nest\n",
      "2023-04-05 15:01:04,855 - INFO - tvb_multiscale.tvb_nest.config - NEST_DOC_DIR: /home/docker/env/neurosci/nest_build/share/doc/nest\n",
      "2023-04-05 15:01:04,855 - INFO - tvb_multiscale.tvb_nest.config - NEST_DOC_DIR: /home/docker/env/neurosci/nest_build/share/doc/nest\n",
      "2023-04-05 15:01:04,861 - INFO - tvb_multiscale.tvb_nest.config - NEST_MODULE_PATH: /home/docker/env/neurosci/nest_build/lib/nest\n",
      "2023-04-05 15:01:04,861 - INFO - tvb_multiscale.tvb_nest.config - NEST_MODULE_PATH: /home/docker/env/neurosci/nest_build/lib/nest\n",
      "2023-04-05 15:01:04,874 - INFO - tvb_multiscale.tvb_nest.config - PATH: /home/docker/env/neurosci/nest_build/bin:/usr/local/sbin:/usr/local/bin:/usr/sbin:/usr/bin:/sbin:/bin\n",
      "2023-04-05 15:01:04,874 - INFO - tvb_multiscale.tvb_nest.config - PATH: /home/docker/env/neurosci/nest_build/bin:/usr/local/sbin:/usr/local/bin:/usr/sbin:/usr/bin:/sbin:/bin\n",
      "2023-04-05 15:01:04,887 - INFO - tvb_multiscale.tvb_nest.config - LD_LIBRARY_PATH: /home/docker/env/neurosci/nest_build/lib/nest::/home/docker/env/neurosci/nest_build/lib/nest\n",
      "2023-04-05 15:01:04,887 - INFO - tvb_multiscale.tvb_nest.config - LD_LIBRARY_PATH: /home/docker/env/neurosci/nest_build/lib/nest::/home/docker/env/neurosci/nest_build/lib/nest\n",
      "2023-04-05 15:01:04,894 - INFO - tvb_multiscale.tvb_nest.config - SLI_PATH: /home/docker/env/neurosci/nest_build/share/nest/sli\n",
      "2023-04-05 15:01:04,894 - INFO - tvb_multiscale.tvb_nest.config - SLI_PATH: /home/docker/env/neurosci/nest_build/share/nest/sli\n",
      "2023-04-05 15:01:04,902 - INFO - tvb_multiscale.tvb_nest.config - NEST_PYTHON_PREFIX: /home/docker/env/neurosci/nest_build/lib/python3.9/site-packages\n",
      "2023-04-05 15:01:04,902 - INFO - tvb_multiscale.tvb_nest.config - NEST_PYTHON_PREFIX: /home/docker/env/neurosci/nest_build/lib/python3.9/site-packages\n",
      "2023-04-05 15:01:04,912 - INFO - tvb_multiscale.tvb_nest.config - system path: ['/home/docker/env/neurosci/nest_build/lib/python3.9/site-packages', '/home/docker/packages/tvb-multiscale/examples/tvb_nest/notebooks/cerebellum/working_files/sabrine_results', '/home/docker/env/neurosci', '/usr/lib/python39.zip', '/usr/lib/python3.9', '/usr/lib/python3.9/lib-dynload', '', '/home/docker/env/neurosci/lib/python3.9/site-packages', '/home/docker/env/neurosci/lib/python3.9/site-packages/NESTML-5.1.0.post0.dev0-py3.9.egg', '/home/docker/env/neurosci/lib/python3.9/site-packages/sympy-1.11rc1-py3.9.egg', '/home/docker/env/neurosci/lib/python3.9/site-packages/odetoolbox-2.5-py3.9.egg', '/home/docker/env/neurosci/lib/python3.9/site-packages/astropy-5.2.dev0-py3.9-linux-x86_64.egg', '/home/docker/env/neurosci/lib/python3.9/site-packages/antlr4_python3_runtime-4.10-py3.9.egg', '/home/docker/env/neurosci/lib/python3.9/site-packages/mpmath-1.2.1-py3.9.egg', '/home/docker/env/neurosci/lib/python3.9/site-packages/pyerfa-2.0.0.1-py3.9-linux-x86_64.egg', '/home/docker/env/neurosci/lib/python3.9/site-packages/PyYAML-6.0-py3.9-linux-x86_64.egg', '/home/docker/env/neurosci/lib/python3.9/site-packages/pyspike-0.7.0-py3.9-linux-x86_64.egg', '/home/docker/packages/tvb-root/tvb_library', '/home/docker/env/neurosci/lib/python3.9/site-packages/PyLEMS-0.6.0-py3.9.egg', '/home/docker/env/neurosci/lib/python3.9/site-packages/numexpr-2.8.4-py3.9-linux-x86_64.egg', '/home/docker/env/neurosci/lib/python3.9/site-packages/networkx-3.0-py3.9.egg', '/home/docker/env/neurosci/lib/python3.9/site-packages/Mako-1.2.4-py3.9.egg', '/home/docker/env/neurosci/lib/python3.9/site-packages/ipywidgets-8.0.4-py3.9.egg', '/home/docker/env/neurosci/lib/python3.9/site-packages/Deprecated-1.2.13-py3.9.egg', '/home/docker/env/neurosci/lib/python3.9/site-packages/autopep8-2.0.2-py3.9.egg', '/home/docker/env/neurosci/lib/python3.9/site-packages/jupyterlab_widgets-3.0.5-py3.9.egg', '/home/docker/env/neurosci/lib/python3.9/site-packages/widgetsnbextension-4.0.5-py3.9.egg', '/home/docker/env/neurosci/lib/python3.9/site-packages/wrapt-1.15.0-py3.9.egg', '/home/docker/env/neurosci/lib/python3.9/site-packages/pycodestyle-2.10.0-py3.9.egg', '/home/docker/packages/tvb-root/tvb_framework', '/home/docker/env/neurosci/lib/python3.9/site-packages/tvb_library-2.8-py3.9.egg', '/home/docker/env/neurosci/lib/python3.9/site-packages/tvb_gdist-2.2-py3.9-linux-x86_64.egg', '/home/docker/env/neurosci/lib/python3.9/site-packages/tvb_data-2.0-py3.9.egg', '/home/docker/env/neurosci/lib/python3.9/site-packages/tables-3.7.0-py3.9-linux-x86_64.egg', '/home/docker/env/neurosci/lib/python3.9/site-packages/simplejson-3.18.3-py3.9-linux-x86_64.egg', '/home/docker/env/neurosci/lib/python3.9/site-packages/siibra-0.3a27-py3.9.egg', '/home/docker/env/neurosci/lib/python3.9/site-packages/requests_toolbelt-0.10.1-py3.9.egg', '/home/docker/env/neurosci/lib/python3.9/site-packages/python_keycloak-2.13.2-py3.9.egg', '/home/docker/env/neurosci/lib/python3.9/site-packages/nibabel-5.0.1-py3.9.egg', '/home/docker/env/neurosci/lib/python3.9/site-packages/matplotlib-3.5.3-py3.9-linux-x86_64.egg', '/home/docker/env/neurosci/lib/python3.9/site-packages/gevent-22.10.2-py3.9-linux-x86_64.egg', '/home/docker/env/neurosci/lib/python3.9/site-packages/FormEncode-2.0.1-py3.9.egg', '/home/docker/env/neurosci/lib/python3.9/site-packages/flask_restx-1.1.0-py3.9.egg', '/home/docker/packages/tvb-root/tvb_storage', '/home/docker/env/neurosci/lib/python3.9/site-packages/pyAesCrypt-6.0.0-py3.9.egg', '/home/docker/env/neurosci/lib/python3.9/site-packages/kubernetes-26.1.0-py3.9.egg', '/home/docker/env/neurosci/lib/python3.9/site-packages/cryptography-39.0.2-py3.9-linux-x86_64.egg', '/home/docker/packages/tvb-root/tvb_contrib', '/home/docker/packages/tvb-multiscale', '/home/docker/.local/lib/python3.9/site-packages', '/usr/local/lib/python3.9/dist-packages', '/usr/lib/python3/dist-packages']\n",
      "2023-04-05 15:01:04,912 - INFO - tvb_multiscale.tvb_nest.config - system path: ['/home/docker/env/neurosci/nest_build/lib/python3.9/site-packages', '/home/docker/packages/tvb-multiscale/examples/tvb_nest/notebooks/cerebellum/working_files/sabrine_results', '/home/docker/env/neurosci', '/usr/lib/python39.zip', '/usr/lib/python3.9', '/usr/lib/python3.9/lib-dynload', '', '/home/docker/env/neurosci/lib/python3.9/site-packages', '/home/docker/env/neurosci/lib/python3.9/site-packages/NESTML-5.1.0.post0.dev0-py3.9.egg', '/home/docker/env/neurosci/lib/python3.9/site-packages/sympy-1.11rc1-py3.9.egg', '/home/docker/env/neurosci/lib/python3.9/site-packages/odetoolbox-2.5-py3.9.egg', '/home/docker/env/neurosci/lib/python3.9/site-packages/astropy-5.2.dev0-py3.9-linux-x86_64.egg', '/home/docker/env/neurosci/lib/python3.9/site-packages/antlr4_python3_runtime-4.10-py3.9.egg', '/home/docker/env/neurosci/lib/python3.9/site-packages/mpmath-1.2.1-py3.9.egg', '/home/docker/env/neurosci/lib/python3.9/site-packages/pyerfa-2.0.0.1-py3.9-linux-x86_64.egg', '/home/docker/env/neurosci/lib/python3.9/site-packages/PyYAML-6.0-py3.9-linux-x86_64.egg', '/home/docker/env/neurosci/lib/python3.9/site-packages/pyspike-0.7.0-py3.9-linux-x86_64.egg', '/home/docker/packages/tvb-root/tvb_library', '/home/docker/env/neurosci/lib/python3.9/site-packages/PyLEMS-0.6.0-py3.9.egg', '/home/docker/env/neurosci/lib/python3.9/site-packages/numexpr-2.8.4-py3.9-linux-x86_64.egg', '/home/docker/env/neurosci/lib/python3.9/site-packages/networkx-3.0-py3.9.egg', '/home/docker/env/neurosci/lib/python3.9/site-packages/Mako-1.2.4-py3.9.egg', '/home/docker/env/neurosci/lib/python3.9/site-packages/ipywidgets-8.0.4-py3.9.egg', '/home/docker/env/neurosci/lib/python3.9/site-packages/Deprecated-1.2.13-py3.9.egg', '/home/docker/env/neurosci/lib/python3.9/site-packages/autopep8-2.0.2-py3.9.egg', '/home/docker/env/neurosci/lib/python3.9/site-packages/jupyterlab_widgets-3.0.5-py3.9.egg', '/home/docker/env/neurosci/lib/python3.9/site-packages/widgetsnbextension-4.0.5-py3.9.egg', '/home/docker/env/neurosci/lib/python3.9/site-packages/wrapt-1.15.0-py3.9.egg', '/home/docker/env/neurosci/lib/python3.9/site-packages/pycodestyle-2.10.0-py3.9.egg', '/home/docker/packages/tvb-root/tvb_framework', '/home/docker/env/neurosci/lib/python3.9/site-packages/tvb_library-2.8-py3.9.egg', '/home/docker/env/neurosci/lib/python3.9/site-packages/tvb_gdist-2.2-py3.9-linux-x86_64.egg', '/home/docker/env/neurosci/lib/python3.9/site-packages/tvb_data-2.0-py3.9.egg', '/home/docker/env/neurosci/lib/python3.9/site-packages/tables-3.7.0-py3.9-linux-x86_64.egg', '/home/docker/env/neurosci/lib/python3.9/site-packages/simplejson-3.18.3-py3.9-linux-x86_64.egg', '/home/docker/env/neurosci/lib/python3.9/site-packages/siibra-0.3a27-py3.9.egg', '/home/docker/env/neurosci/lib/python3.9/site-packages/requests_toolbelt-0.10.1-py3.9.egg', '/home/docker/env/neurosci/lib/python3.9/site-packages/python_keycloak-2.13.2-py3.9.egg', '/home/docker/env/neurosci/lib/python3.9/site-packages/nibabel-5.0.1-py3.9.egg', '/home/docker/env/neurosci/lib/python3.9/site-packages/matplotlib-3.5.3-py3.9-linux-x86_64.egg', '/home/docker/env/neurosci/lib/python3.9/site-packages/gevent-22.10.2-py3.9-linux-x86_64.egg', '/home/docker/env/neurosci/lib/python3.9/site-packages/FormEncode-2.0.1-py3.9.egg', '/home/docker/env/neurosci/lib/python3.9/site-packages/flask_restx-1.1.0-py3.9.egg', '/home/docker/packages/tvb-root/tvb_storage', '/home/docker/env/neurosci/lib/python3.9/site-packages/pyAesCrypt-6.0.0-py3.9.egg', '/home/docker/env/neurosci/lib/python3.9/site-packages/kubernetes-26.1.0-py3.9.egg', '/home/docker/env/neurosci/lib/python3.9/site-packages/cryptography-39.0.2-py3.9-linux-x86_64.egg', '/home/docker/packages/tvb-root/tvb_contrib', '/home/docker/packages/tvb-multiscale', '/home/docker/.local/lib/python3.9/site-packages', '/usr/local/lib/python3.9/dist-packages', '/usr/lib/python3/dist-packages']\n"
     ]
    },
    {
     "name": "stdout",
     "output_type": "stream",
     "text": [
      "Outputs' path: /home/docker/packages/tvb-multiscale/examples/tvb_nest/notebooks/cerebellum/working_files/sabrine_results/outputs/cwc\n",
      "Config (\n",
      "  title .............................. 'Config gid: e255a510-93f6-4fbc-bc4d-79286ecff89e'\n",
      "  Type ............................... 'Config'\n",
      "  gid ................................ UUID('e255a510-93f6-4fbc-bc4d-79286ecff89e')\n",
      "  config.gid ......................... UUID('e255a510-93f6-4fbc-bc4d-79286ecff89e')\n",
      "  config.title ....................... 'Config gid: e255a510-93f6-4fbc-bc4d-79286ecff89e'\n",
      "  config.log ......................... <Logger tvb_multiscale.tvb_nest.config (DEBUG)>\n",
      "  config.out ......................... OutputConfig gid: 8e5d9008-154c-47f5-9b05-03841a4bf8e0\n",
      "  config.figures ..................... FiguresConfig\n",
      "  config.DEFAULT_SUBJECT[connectivity]  Connectivity gid: 906f18da-1a91-425f-93ff-ae8df0e7d651\n",
      "  config.DEFAULT_SUBJECT[cortex] ..... Cortex gid: c2e4927e-dae5-4af2-a74d-781fc0dfd288\n",
      "  config.DEFAULT_SUBJECT_PATH ........ '/home/docker/packages/tvb-multiscale/examples/data/tvb_data/berlinSubjects/QL_20120814'\n",
      "  config.TVB_DATA_PATH ............... '/home/docker/packages/tvb-multiscale/examples/data/tvb_data'\n",
      "  config.DEFAULT_CONNECTIVITY_ZIP .... '/home/docker/packages/tvb-multiscale/examples/data/tvb_data/berlinSubjects/QL_20120814/QL_20120814_Connectivity.zip'\n",
      "  config.NEST_PATH ................... '/home/docker/env/neurosci/nest_build'\n",
      "  config.PYTHON ...................... '/home/docker/env/neurosci/nest_build/lib/python3.9/site-packages'\n",
      "  config.DATA_DIR .................... '/home/docker/env/neurosci/nest_build/share/nest'\n",
      "  config.SLI_PATH .................... '/home/docker/env/neurosci/nest_build/share/nest/sli'\n",
      "  config.DOC_DIR ..................... '/home/docker/env/neurosci/nest_build/share/doc/nest'\n",
      "  config.MODULE_PATH ................. '/home/docker/env/neurosci/nest_build/lib/nest'\n",
      "  config.TVB_NEST_DIR ................ '/home/docker/packages/tvb-multiscale/tvb_multiscale/'\n",
      "  config.WORKING_DIR ................. '/home/docker/packages/tvb-multiscale/examples/tvb_nest/notebooks/cerebellum/working_files/sabrine_results'\n",
      "  config.RECORDINGS_DIR .............. '/home/docker/packages/tvb-multiscale/examples/tvb_nest/notebooks/cerebellum/working_files/sabrine_results/outputs/cwc/res/nest_recordings'\n",
      "  config.MYMODULES_DIR ............... '/home/docker/packages/tvb-multiscale/tvb_multiscale/tvb_nest/nest/modules'\n",
      "  config.MYMODULES_BLD_DIR ........... '/home/docker/packages/nest_modules_builds'\n",
      "  config.VERBOSE ..................... 1\n",
      "  config.DEFAULT_DT .................. 0.1\n",
      "  config.DEFAULT_NSIG ................ 0.0001\n",
      "  config.DEFAULT_STOCHASTIC_INTEGRATOR  <class 'tvb.simulator.integrators.EulerStochastic'>\n",
      "  config.DEFAULT_INTEGRATOR .......... <class 'tvb.simulator.integrators.EulerStochastic'>\n",
      "  config.SIMULATION_LENGTH ........... 32769.0\n",
      "  config.TRANSIENT_RATIO ............. 0.25\n",
      "  config.NEST_PERIPHERY .............. False\n",
      "  config.INVERSE_SIGMOIDAL_NEST_TO_TVB  True\n",
      "  config.SOURCE_TS_PATH .............. '/home/docker/packages/tvb-multiscale/examples/tvb_nest/notebooks/cerebellum/working_files/sabrine_results/outputs/cwc/res/source_ts.pkl'\n",
      "  config.BOLD_TS_PATH ................ '/home/docker/packages/tvb-multiscale/examples/tvb_nest/notebooks/cerebellum/working_files/sabrine_results/outputs/cwc/res/bold_ts.pkl'\n",
      "  config.CONN_SPEED .................. 3.0\n",
      "  config.BRAIN_CONN_FILE ............. '/home/docker/packages/tvb-multiscale/examples/data/cerebellum/Connectivity_wavCntrs_TLwav_SummedSubcortical_Thals.h5'\n",
      "  config.MAJOR_STRUCTS_LABELS_FILE ... '/home/docker/packages/tvb-multiscale/examples/data/cerebellum/major_structs_labels_SummedSubcortical_Thals.npy'\n",
      "  config.VOXEL_COUNT_FILE ............ '/home/docker/packages/tvb-multiscale/examples/data/cerebellum/voxel_count_SummedSubcortical_Thals.npy'\n",
      "  config.INDS_FILE ................... '/home/docker/packages/tvb-multiscale/examples/data/cerebellum/inds_SummedSubcortical_Thals.npy'\n",
      "  config.CEREB_SCAFFOLD_PATH ......... '/home/docker/packages/tvb-multiscale/examples/data/cerebellum/balanced_DCN_IO.hdf5'\n",
      "  config.THAL_CRTX_FIX ............... 'wd'\n",
      "  config.BRAIN_CONNECTIONS_TO_SCALE .. --------------------\n",
      "  shape .............................. (0,)\n",
      "  dtype .............................. float64\n",
      "  is empty ........................... True\n",
      "  config.CONN_LOG .................... True\n",
      "  config.CONN_SCALE .................. None\n",
      "  config.CONN_NORM_PERCENTILE ........ 99\n",
      "  config.CONN_CEIL ................... False\n",
      "  config.STIMULUS_RATE ............... 8.0\n",
      "  config.model_params[G] ............. 1.0\n",
      "  config.model_params[STIMULUS] ...... 0.1\n",
      "  config.model_params[I_e] ........... -0.35\n",
      "  config.model_params[I_s] ........... 0.08\n",
      "  config.model_params[w_ie] .......... -3.0\n",
      "  config.model_params[w_rs] .......... -2.0\n",
      "  config.NEST_STIMULUS ............... 15.0\n",
      "  config.RAW_PERIOD .................. 1.0\n",
      "  config.BOLD_PERIOD ................. 1024.0\n",
      "  config.FIC ......................... 1.0\n",
      "  config.FIC_PARAMS .................. --------------------\n",
      "  config.FIC_PARAMS: shape ........... (2,)\n",
      "  config.FIC_PARAMS: dtype ........... <U4\n",
      "  config.FIC_PARAMS: values .......... ['I_e' 'w_ie']\n",
      "  config.FIC_SPLIT ................... 0.25\n",
      "  config.SBI_NUM_WORKERS ............. 1\n",
      "  config.SBI_METHOD .................. 'SNPE'\n",
      "  config.TARGET_PSD_POPA_PATH ........ '/home/docker/packages/tvb-multiscale/examples/data/cerebellum/PS_popa2013'\n",
      "  config.PSD_TARGET_PATH ............. '/home/docker/packages/tvb-multiscale/examples/tvb_nest/notebooks/cerebellum/working_files/sabrine_results/outputs/cwc/res/PSD_target.npy'\n",
      "  config.TARGET_FREQS ................ --------------------\n",
      "  config.TARGET_FREQS: shape ......... (43,)\n",
      "  config.TARGET_FREQS: dtype ......... float64\n",
      "  config.TARGET_FREQS: values ........ [ 5.  6.  7.  8.  9. 10. 11. 12. 13. 14. 15. 16. 17. 18. 19. 20. 21. 22.\n",
      " 23. 24. 25. 26. 27. 28. 29. 30. 31. 32. 33. 34. 35. 36. 37. 38. 39. 40.\n",
      " 41. 42. 43. 44. 45. 46. 47.]\n",
      "  config.POSTERIOR_PATH .............. '/home/docker/packages/tvb-multiscale/examples/tvb_nest/notebooks/cerebellum/working_files/sabrine_results/outputs/cwc/res/posterior.pkl'\n",
      "  config.POSTERIOR_SAMPLES_PATH ...... '/home/docker/packages/tvb-multiscale/examples/tvb_nest/notebooks/cerebellum/working_files/sabrine_results/outputs/cwc/res/data_samples_fit.pkl'\n",
      "  config.N_FIT_RUNS .................. 10\n",
      "  config.N_SIMULATIONS ............... 6000\n",
      "  config.N_SIM_BATCHES ............... 500\n",
      "  config.SPLIT_RUN_SAMPLES ........... 1\n",
      "  config.N_TRAIN_SAMPLES_LIST ........ --------------------\n",
      "  config.N_TRAIN_SAMPLES_LIST: shape . (12,)\n",
      "  config.N_TRAIN_SAMPLES_LIST: dtype . int64\n",
      "  config.N_TRAIN_SAMPLES_LIST: values  [[100], [200], [500], [1000], [1500], [2000], [2500], [3000], [3500], [4000], [4500], [5000]]\n",
      "  config.N_TRAIN_SAMPLES_LABEL ....... '%04d_Train'\n",
      "  config.TEST_SAMPLES_RATIO .......... 0.2\n",
      "  config.N_SAMPLES_PER_RUN ........... 1000\n",
      "  config.BATCH_FILE_FORMAT ........... '%s_%03d%s'\n",
      "  config.BATCH_FILE_FORMAT_G ......... '%s_iG%02d_%03d%s'\n",
      "  config.BATCH_PRIORS_SAMPLES_FILE ... 'bps.pt'\n",
      "  config.BATCH_SIM_RES_FILE .......... 'bsr.npy'\n",
      "  config.N_PPT_SIM_BATCHES ........... 10\n",
      "  config.N_PPT_SIMS_PER_BATCH ........ 12\n",
      "  config.PPT_BATCH_SIM_RES_FILE ...... 'ppt_bsr.npy'\n",
      "  config.Gs .......................... --------------------\n",
      "  config.Gs: shape ................... (4,)\n",
      "  config.Gs: dtype ................... float64\n",
      "  config.Gs: values .................. [ 1.  5.  6. 10.]\n",
      "  config.PRIORS_DIST ................. 'uniform'\n",
      "  config.PRIORS_DEF[STIMULUS][min] ... -1.0\n",
      "  config.PRIORS_DEF[STIMULUS][max] ... 1.0\n",
      "  config.PRIORS_DEF[STIMULUS][loc] ... 0.0\n",
      "  config.PRIORS_DEF[STIMULUS][sc] .... 0.25\n",
      "  config.PRIORS_DEF[I_e][min] ........ -1.0\n",
      "  config.PRIORS_DEF[I_e][max] ........ 0.0\n",
      "  config.PRIORS_DEF[I_e][loc] ........ -0.35\n",
      "  config.PRIORS_DEF[I_e][sc] ......... 0.1\n",
      "  config.PRIORS_DEF[I_s][min] ........ -0.5\n",
      "  config.PRIORS_DEF[I_s][max] ........ 0.5\n",
      "  config.PRIORS_DEF[I_s][loc] ........ 0.0\n",
      "  config.PRIORS_DEF[I_s][sc] ......... 0.15\n",
      "  config.PRIORS_DEF[w_ie][min] ....... -10.0\n",
      "  config.PRIORS_DEF[w_ie][max] ....... 0.0\n",
      "  config.PRIORS_DEF[w_ie][loc] ....... -5.0\n",
      "  config.PRIORS_DEF[w_ie][sc] ........ 2.5\n",
      "  config.PRIORS_DEF[w_rs][min] ....... -4.0\n",
      "  config.PRIORS_DEF[w_rs][max] ....... 0.0\n",
      "  config.PRIORS_DEF[w_rs][loc] ....... -2.0\n",
      "  config.PRIORS_DEF[w_rs][sc] ........ 0.5\n",
      "  config.PRIORS_DEF[FIC][min] ........ 0.0\n",
      "  config.PRIORS_DEF[FIC][max] ........ 2.0\n",
      "  config.PRIORS_DEF[FIC][loc] ........ 1.0\n",
      "  config.PRIORS_DEF[FIC][sc] ......... 0.25\n",
      "  config.PRIORS_DEF[FIC_SPLIT][min] .. 0.0\n",
      "  config.PRIORS_DEF[FIC_SPLIT][max] .. 0.5\n",
      "  config.PRIORS_DEF[FIC_SPLIT][loc] .. 0.25\n",
      "  config.PRIORS_DEF[FIC_SPLIT][sc] ... 0.05\n",
      "  config.PRIORS_PARAMS_NAMES ......... --------------------\n",
      "  config.PRIORS_PARAMS_NAMES: shape .. (3,)\n",
      "  config.PRIORS_PARAMS_NAMES: dtype .. <U9\n",
      "  config.PRIORS_PARAMS_NAMES: values . ['I_s' 'FIC' 'FIC_SPLIT']\n",
      "  config.prior_min ................... --------------------\n",
      "  config.prior_min: shape ............ (3,)\n",
      "  config.prior_min: dtype ............ float64\n",
      "  config.prior_min: =-0.5 ............ {0}\n",
      "  config.prior_min: =0.0 ............. {1...2}\n",
      "  config.prior_max ................... --------------------\n",
      "  config.prior_max: shape ............ (3,)\n",
      "  config.prior_max: dtype ............ float64\n",
      "  config.prior_max: =0.5 ............. {0, 2}\n",
      "  config.prior_max: =2.0 ............. {1}\n",
      "  config.prior_loc ................... --------------------\n",
      "  config.prior_loc: shape ............ (3,)\n",
      "  config.prior_loc: dtype ............ float64\n",
      "  config.prior_loc: values ........... [0.   1.   0.25]\n",
      "  config.prior_sc .................... --------------------\n",
      "  config.prior_sc: shape ............. (3,)\n",
      "  config.prior_sc: dtype ............. float64\n",
      "  config.prior_sc: values ............ [0.15 0.25 0.05]\n",
      "  config.n_priors .................... 3\n",
      "  config.SBI_FIT_PLOT_PATH ........... '/home/docker/packages/tvb-multiscale/examples/tvb_nest/notebooks/cerebellum/working_files/sabrine_results/outputs/cwc/figs/sbi_fit.png'\n",
      "  config.OPT_RES_MODE ................ 'map'\n",
      "  config.MIN_ACCURACY ................ -inf\n",
      ")\n"
     ]
    }
   ],
   "source": [
    "import os\n",
    "from examples.tvb_nest.notebooks.cerebellum.scripts.base import configure\n",
    "from examples.tvb_nest.notebooks.cerebellum.scripts.sbi_script import *\n",
    "\n",
    "config = configure()[0]\n",
    "\n"
   ]
  },
  {
   "cell_type": "code",
   "execution_count": 3,
   "id": "b8ba22c7",
   "metadata": {},
   "outputs": [
    {
     "name": "stdout",
     "output_type": "stream",
     "text": [
      "/home/docker/packages/tvb-multiscale/examples/tvb_nest/notebooks/cerebellum/working_files/sabrine_results/outputs/cwc/res\n"
     ]
    }
   ],
   "source": [
    "print(config.out.FOLDER_RES)\n",
    "respath = str(config.out.FOLDER_RES)"
   ]
  },
  {
   "cell_type": "code",
   "execution_count": 4,
   "id": "2feb2dd3",
   "metadata": {},
   "outputs": [],
   "source": [
    "iGs = [2]\n",
    "TRAIN_SAMPLES = config.N_TRAIN_SAMPLES_LIST"
   ]
  },
  {
   "cell_type": "code",
   "execution_count": null,
   "id": "9d8f11e5",
   "metadata": {
    "scrolled": true
   },
   "outputs": [],
   "source": [
    "        \n",
    "# for iG in iGs:\n",
    "#     for nts in TRAIN_SAMPLES:\n",
    "#        label = \"%04d_Train\" % nts\n",
    "#        sbi_estimate_for_iG(iG, label, config)\n"
   ]
  },
  {
   "cell_type": "code",
   "execution_count": null,
   "id": "a48d51ca",
   "metadata": {
    "scrolled": false
   },
   "outputs": [],
   "source": [
    "plot_all_together(config, iGs=iGs, diagnostics=[\"map\", \"mean\", \"shrinkage\"],\n",
    "                  params=None, num_train_samples=TRAIN_SAMPLES, runs=None,\n",
    "                  colors=['b', \"g\", \"m\"], marker='.', linestyle='-', figsize=(4,4))\n",
    "    "
   ]
  },
  {
   "cell_type": "code",
   "execution_count": null,
   "id": "c8c9d93c",
   "metadata": {},
   "outputs": [],
   "source": [
    "iGs"
   ]
  },
  {
   "cell_type": "code",
   "execution_count": null,
   "id": "f4f08408",
   "metadata": {},
   "outputs": [],
   "source": [
    "config.SIMULATION_LENGTH = 2**11 + 1.0\n",
    "config.OPT_RES_MODE = \"map\""
   ]
  },
  {
   "cell_type": "code",
   "execution_count": null,
   "id": "c62c62ef",
   "metadata": {
    "scrolled": true
   },
   "outputs": [],
   "source": [
    "outputs = simulate_after_fitting(2, iR=0, label=\"5000_Train\", config= config,\n",
    "                                 workflow_fun=None, model_params={}, FIC=None, FIC_SPLIT=None)"
   ]
  },
  {
   "cell_type": "code",
   "execution_count": null,
   "id": "fa1221b7",
   "metadata": {},
   "outputs": [],
   "source": [
    "config.PRIORS_PARAMS_NAMES"
   ]
  },
  {
   "cell_type": "code",
   "execution_count": null,
   "id": "65f3506b",
   "metadata": {},
   "outputs": [],
   "source": [
    "samples_5000 = load_posterior_samples_all_runs(2, runs=None, label=\"5000_Train\", samples=None, config=config)\n",
    "    "
   ]
  },
  {
   "cell_type": "code",
   "execution_count": null,
   "id": "b1a4440c",
   "metadata": {},
   "outputs": [],
   "source": [
    "samples_5000[\"mean_avg\"] = np.concatenate(samples_5000[\"mean\"]).mean(axis=0)\n",
    "print(samples_5000[\"mean_avg\"])"
   ]
  },
  {
   "cell_type": "code",
   "execution_count": null,
   "id": "cf8c0e72",
   "metadata": {},
   "outputs": [],
   "source": [
    "samples_5000[\"map_avg\"] = np.concatenate(samples_5000[\"map\"]).mean(axis=0)\n",
    "print(samples_5000[\"map_avg\"])"
   ]
  },
  {
   "cell_type": "code",
   "execution_count": null,
   "id": "a70c8434",
   "metadata": {},
   "outputs": [],
   "source": [
    "# Posterior Predictive check simulations:\n",
    "config.N_PPT_SIM_BATCHES = 50\n",
    "config.N_PPT_SIMS_PER_BATCH = 12\n",
    "config.PPT_BATCH_SIM_RES_FILE = \"ppt_bsr.npy\"  # ppt_bsr_iG01_iB010.npy\n",
    "\n",
    "NUM_TRAIN_SAMPLES = 5000\n",
    "iGs = [2]\n",
    "sim_res = {}\n",
    "for iG in iGs:\n",
    "    sim_res[config.Gs[iG]] = []\n",
    "    for iB in range(config.N_PPT_SIM_BATCHES):\n",
    "        sim_res[config.Gs[iG]].append(\n",
    "            posterior_predictive_check_simulations_for_iG_iB(iB, iG, \n",
    "                                                             num_train_samples=NUM_TRAIN_SAMPLES,  iR=None,\n",
    "                                                             config=config))"
   ]
  },
  {
   "cell_type": "code",
   "execution_count": null,
   "id": "e93aa8c0",
   "metadata": {},
   "outputs": [],
   "source": []
  }
 ],
 "metadata": {
  "kernelspec": {
   "display_name": "Python 3 (ipykernel)",
   "language": "python",
   "name": "python3"
  },
  "language_info": {
   "codemirror_mode": {
    "name": "ipython",
    "version": 3
   },
   "file_extension": ".py",
   "mimetype": "text/x-python",
   "name": "python",
   "nbconvert_exporter": "python",
   "pygments_lexer": "ipython3",
   "version": "3.9.2"
  }
 },
 "nbformat": 4,
 "nbformat_minor": 5
}
